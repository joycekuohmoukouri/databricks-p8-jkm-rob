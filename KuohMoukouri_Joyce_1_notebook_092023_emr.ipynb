{
 "cells": [
  {
   "cell_type": "markdown",
   "metadata": {},
   "source": [
    "# Projet 8 - Déployez un modèle dans le cloud\n",
    "\n",
    "## Sommaire"
   ]
  },
  {
   "cell_type": "code",
   "execution_count": 1,
   "metadata": {},
   "outputs": [
    {
     "name": "stderr",
     "output_type": "stream",
     "text": [
      "2023-09-23 12:28:51.919077: I tensorflow/core/platform/cpu_feature_guard.cc:182] This TensorFlow binary is optimized to use available CPU instructions in performance-critical operations.\n",
      "To enable the following instructions: AVX2 FMA, in other operations, rebuild TensorFlow with the appropriate compiler flags.\n"
     ]
    }
   ],
   "source": [
    "import pandas as pd\n",
    "from PIL import Image\n",
    "import numpy as np\n",
    "import io\n",
    "import os\n",
    "import seaborn as sns\n",
    "\n",
    "import tensorflow as tf\n",
    "from tensorflow.keras.applications.mobilenet_v2 import MobileNetV2, preprocess_input\n",
    "from tensorflow.keras.preprocessing.image import img_to_array\n",
    "from tensorflow.keras import Model\n",
    "from pyspark.sql.functions import col, pandas_udf, PandasUDFType, element_at, split\n",
    "from pyspark.sql import SparkSession"
   ]
  },
  {
   "cell_type": "code",
   "execution_count": 2,
   "metadata": {},
   "outputs": [
    {
     "name": "stdout",
     "output_type": "stream",
     "text": [
      "PATH:        /Users/JoycyRobert/Documents/JUPYTER/OPC/PROJET_8/P8\n",
      "PATH_Data:   /Users/JoycyRobert/Documents/JUPYTER/OPC/PROJET_8/P8/data/Test1\n",
      "PATH_Result: /Users/JoycyRobert/Documents/JUPYTER/OPC/PROJET_8/P8/data/Results\n"
     ]
    }
   ],
   "source": [
    "PATH = 's3://oc-calculsdistribues-p8-jkm-rob/'\n",
    "PATH_Data = PATH+'/data/Test1'\n",
    "PATH_Result = PATH+'/data/Results'\n",
    "print('PATH:        '+\\\n",
    "      PATH+'\\nPATH_Data:   '+\\\n",
    "      PATH_Data+'\\nPATH_Result: '+PATH_Result)"
   ]
  },
  {
   "cell_type": "markdown",
   "metadata": {},
   "source": [
    "## Création de la SparkSession\n",
    "\n",
    "L’application Spark est contrôlée grâce à un processus de pilotage (driver process) appelé **SparkSession**. <br />\n",
    "<u>Une instance de **SparkSession** est la façon dont Spark exécute les fonctions définies par l’utilisateur <br />\n",
    "dans l’ensemble du cluster</u>. <u>Une SparkSession correspond toujours à une application Spark</u>.\n",
    "\n",
    "<u>Ici nous créons une session spark en spécifiant dans l'ordre</u> :\n",
    " 1. un **nom pour l'application**, qui sera affichée dans l'interface utilisateur Web Spark \"**P8**\"\n",
    " 2. que l'application doit s'exécuter **localement**. <br />\n",
    "   Nous ne définissons pas le nombre de cœurs à utiliser (comme .master('local[4]) pour 4 cœurs à utiliser), <br />\n",
    "   nous utiliserons donc tous les cœurs disponibles dans notre processeur.<br />\n",
    " 3. une option de configuration supplémentaire permettant d'utiliser le **format \"parquet\"** <br />\n",
    "   que nous utiliserons pour enregistrer et charger le résultat de notre travail.\n",
    " 4. vouloir **obtenir une session spark** existante ou si aucune n'existe, en créer une nouvelle"
   ]
  },
  {
   "cell_type": "code",
   "execution_count": 3,
   "metadata": {},
   "outputs": [
    {
     "name": "stderr",
     "output_type": "stream",
     "text": [
      "Setting default log level to \"WARN\".\n",
      "To adjust logging level use sc.setLogLevel(newLevel). For SparkR, use setLogLevel(newLevel).\n",
      "23/09/19 15:33:16 WARN NativeCodeLoader: Unable to load native-hadoop library for your platform... using builtin-java classes where applicable\n"
     ]
    }
   ],
   "source": [
    "spark = (SparkSession\n",
    "             .builder\n",
    "             .appName('P8')\n",
    "             .master('local')\n",
    "             .config(\"spark.sql.parquet.writeLegacyFormat\", 'true')\n",
    "             .getOrCreate()\n",
    ")"
   ]
  },
  {
   "cell_type": "code",
   "execution_count": 4,
   "metadata": {},
   "outputs": [],
   "source": [
    "sc = spark.sparkContext"
   ]
  },
  {
   "cell_type": "markdown",
   "metadata": {},
   "source": [
    "<u>Affichage des informations de Spark en cours d'execution</u> :"
   ]
  },
  {
   "cell_type": "code",
   "execution_count": 5,
   "metadata": {},
   "outputs": [
    {
     "data": {
      "text/html": [
       "\n",
       "            <div>\n",
       "                <p><b>SparkSession - in-memory</b></p>\n",
       "                \n",
       "        <div>\n",
       "            <p><b>SparkContext</b></p>\n",
       "\n",
       "            <p><a href=\"http://mbp-de-alexis-2.lan:4040\">Spark UI</a></p>\n",
       "\n",
       "            <dl>\n",
       "              <dt>Version</dt>\n",
       "                <dd><code>v3.4.1</code></dd>\n",
       "              <dt>Master</dt>\n",
       "                <dd><code>local</code></dd>\n",
       "              <dt>AppName</dt>\n",
       "                <dd><code>P8</code></dd>\n",
       "            </dl>\n",
       "        </div>\n",
       "        \n",
       "            </div>\n",
       "        "
      ],
      "text/plain": [
       "<pyspark.sql.session.SparkSession at 0x7fac5b5c7670>"
      ]
     },
     "execution_count": 5,
     "metadata": {},
     "output_type": "execute_result"
    }
   ],
   "source": [
    "spark"
   ]
  },
  {
   "cell_type": "markdown",
   "metadata": {},
   "source": [
    "## Traitement des données\n",
    "\n",
    "<u>Dans la suite de notre flux de travail, <br />\n",
    "nous allons successivement</u> :\n",
    "1. Préparer nos données\n",
    "    1. Importer les images dans un dataframe **pandas UDF**\n",
    "    2. Associer aux images leur **label**\n",
    "    3. Préprocesser en **redimensionnant nos images pour <br />\n",
    "       qu'elles soient compatibles avec notre modèle**\n",
    "2. Préparer notre modèle\n",
    "    1. Importer le modèle **MobileNetV2**\n",
    "    2. Créer un **nouveau modèle** dépourvu de la dernière couche de MobileNetV2\n",
    "3. Définir le processus de chargement des images et l'application <br />\n",
    "   de leur featurisation à travers l'utilisation de pandas UDF\n",
    "3. Exécuter les actions d'extraction de features\n",
    "4. Enregistrer le résultat de nos actions\n",
    "5. Tester le bon fonctionnement en chargeant les données enregistrées\n",
    "\n",
    "\n"
   ]
  },
  {
   "cell_type": "markdown",
   "metadata": {},
   "source": [
    "### Chargement des données\n",
    "\n",
    "Les images sont chargées au format binaire, ce qui offre, <br />\n",
    "plus de souplesse dans la façon de prétraiter les images.\n",
    "\n",
    "Avant de charger les images, nous spécifions que nous voulons charger <br />\n",
    "uniquement les fichiers dont l'extension est **jpg**.\n",
    "\n",
    "Nous indiquons également de charger tous les objets possibles contenus <br />\n",
    "dans les sous-dossiers du dossier communiqué."
   ]
  },
  {
   "cell_type": "code",
   "execution_count": 6,
   "metadata": {},
   "outputs": [],
   "source": [
    "images = spark.read.format(\"binaryFile\") \\\n",
    "  .option(\"pathGlobFilter\", \"*.jpg\") \\\n",
    "  .option(\"recursiveFileLookup\", \"true\") \\\n",
    "  .load(PATH_Data)"
   ]
  },
  {
   "cell_type": "markdown",
   "metadata": {},
   "source": [
    "<u>Affichage des 5 premières images contenant</u> :\n",
    " - le path de l'image\n",
    " - la date et heure de sa dernière modification\n",
    " - sa longueur\n",
    " - son contenu encodé en valeur hexadécimal"
   ]
  },
  {
   "cell_type": "markdown",
   "metadata": {},
   "source": [
    "<u>Je ne conserve que le **path** de l'image et j'ajoute <br />\n",
    "    une colonne contenant les **labels** de chaque image</u> :"
   ]
  },
  {
   "cell_type": "code",
   "execution_count": 7,
   "metadata": {},
   "outputs": [
    {
     "name": "stdout",
     "output_type": "stream",
     "text": [
      "root\n",
      " |-- path: string (nullable = true)\n",
      " |-- modificationTime: timestamp (nullable = true)\n",
      " |-- length: long (nullable = true)\n",
      " |-- content: binary (nullable = true)\n",
      " |-- label: string (nullable = true)\n",
      "\n",
      "None\n",
      "+--------------------------------------------------------------------------------------------------+-------+\n",
      "|path                                                                                              |label  |\n",
      "+--------------------------------------------------------------------------------------------------+-------+\n",
      "|file:/Users/JoycyRobert/Documents/JUPYTER/OPC/PROJET_8/P8/data/Test1/Avocado/r_9_100 17.23.17.jpg |Avocado|\n",
      "|file:/Users/JoycyRobert/Documents/JUPYTER/OPC/PROJET_8/P8/data/Test1/Avocado/r_8_100 17.23.17.jpg |Avocado|\n",
      "|file:/Users/JoycyRobert/Documents/JUPYTER/OPC/PROJET_8/P8/data/Test1/Avocado/r_40_100 17.23.17.jpg|Avocado|\n",
      "|file:/Users/JoycyRobert/Documents/JUPYTER/OPC/PROJET_8/P8/data/Test1/Apricot/r_39_100.jpg         |Apricot|\n",
      "|file:/Users/JoycyRobert/Documents/JUPYTER/OPC/PROJET_8/P8/data/Test1/Apricot/r_38_100.jpg         |Apricot|\n",
      "+--------------------------------------------------------------------------------------------------+-------+\n",
      "only showing top 5 rows\n",
      "\n",
      "None\n"
     ]
    },
    {
     "name": "stderr",
     "output_type": "stream",
     "text": [
      "                                                                                \r"
     ]
    }
   ],
   "source": [
    "images = images.withColumn('label', element_at(split(images['path'], '/'),-2))\n",
    "print(images.printSchema())\n",
    "print(images.select('path','label').show(5,False))"
   ]
  },
  {
   "cell_type": "markdown",
   "metadata": {},
   "source": [
    "### Préparation du modèle\n",
    "\n",
    "Je vais utiliser la technique du **transfert learning** pour extraire les features des images.<br />\n",
    "J'ai choisi d'utiliser le modèle **MobileNetV2** pour sa rapidité d'exécution comparée <br />\n",
    "à d'autres modèles comme *VGG16* par exemple.\n",
    "\n",
    "Pour en savoir plus sur la conception et le fonctionnement de MobileNetV2, <br />\n",
    "je vous invite à lire [cet article](https://towardsdatascience.com/review-mobilenetv2-light-weight-model-image-classification-8febb490e61c).\n",
    "\n",
    "<u>Voici le schéma de son architecture globale</u> : \n",
    "\n",
    "![Architecture de MobileNetV2](img/mobilenetv2_architecture.png)\n",
    "\n",
    "Il existe une dernière couche qui sert à classer les images <br />\n",
    "selon 1000 catégories que nous ne voulons pas utiliser.<br />\n",
    "L'idée dans ce projet est de récupérer le **vecteur de caractéristiques <br />\n",
    "de dimensions (1,1,1280)** qui servira, plus tard, au travers d'un moteur <br />\n",
    "de classification à reconnaitre les différents fruits du jeu de données.\n",
    "\n",
    "Comme d'autres modèles similaires, **MobileNetV2**, lorsqu'on l'utilise <br />\n",
    "en incluant toutes ses couches, attend obligatoirement des images <br />\n",
    "de dimension (224,224,3). Nos images étant toutes de dimension (100,100,3), <br />\n",
    "nous devrons simplement les **redimensionner** avant de les confier au modèle.\n",
    "\n",
    "<u>Dans l'odre</u> :\n",
    " 1. Nous chargeons le modèle **MobileNetV2** avec les poids **précalculés** <br />\n",
    "    issus d'**imagenet** et en spécifiant le format de nos images en entrée\n",
    " 2. Nous créons un nouveau modèle avec:\n",
    "  - <u>en entrée</u> : l'entrée du modèle MobileNetV2\n",
    "  - <u>en sortie</u> : l'avant dernière couche du modèle MobileNetV2"
   ]
  },
  {
   "cell_type": "code",
   "execution_count": 8,
   "metadata": {},
   "outputs": [],
   "source": [
    "model = MobileNetV2(weights='imagenet',\n",
    "                    include_top=True,\n",
    "                    input_shape=(224, 224, 3))"
   ]
  },
  {
   "cell_type": "code",
   "execution_count": 9,
   "metadata": {},
   "outputs": [],
   "source": [
    "new_model = Model(inputs=model.input,\n",
    "                  outputs=model.layers[-2].output)"
   ]
  },
  {
   "cell_type": "markdown",
   "metadata": {},
   "source": [
    "Affichage du résumé de notre nouveau modèle où nous constatons <br />\n",
    "que <u>nous récupérons bien en sortie un vecteur de dimension (1, 1, 1280)</u> :"
   ]
  },
  {
   "cell_type": "code",
   "execution_count": 10,
   "metadata": {},
   "outputs": [
    {
     "name": "stdout",
     "output_type": "stream",
     "text": [
      "Model: \"model\"\n",
      "__________________________________________________________________________________________________\n",
      " Layer (type)                Output Shape                 Param #   Connected to                  \n",
      "==================================================================================================\n",
      " input_1 (InputLayer)        [(None, 224, 224, 3)]        0         []                            \n",
      "                                                                                                  \n",
      " Conv1 (Conv2D)              (None, 112, 112, 32)         864       ['input_1[0][0]']             \n",
      "                                                                                                  \n",
      " bn_Conv1 (BatchNormalizati  (None, 112, 112, 32)         128       ['Conv1[0][0]']               \n",
      " on)                                                                                              \n",
      "                                                                                                  \n",
      " Conv1_relu (ReLU)           (None, 112, 112, 32)         0         ['bn_Conv1[0][0]']            \n",
      "                                                                                                  \n",
      " expanded_conv_depthwise (D  (None, 112, 112, 32)         288       ['Conv1_relu[0][0]']          \n",
      " epthwiseConv2D)                                                                                  \n",
      "                                                                                                  \n",
      " expanded_conv_depthwise_BN  (None, 112, 112, 32)         128       ['expanded_conv_depthwise[0][0\n",
      "  (BatchNormalization)                                              ]']                           \n",
      "                                                                                                  \n",
      " expanded_conv_depthwise_re  (None, 112, 112, 32)         0         ['expanded_conv_depthwise_BN[0\n",
      " lu (ReLU)                                                          ][0]']                        \n",
      "                                                                                                  \n",
      " expanded_conv_project (Con  (None, 112, 112, 16)         512       ['expanded_conv_depthwise_relu\n",
      " v2D)                                                               [0][0]']                      \n",
      "                                                                                                  \n",
      " expanded_conv_project_BN (  (None, 112, 112, 16)         64        ['expanded_conv_project[0][0]'\n",
      " BatchNormalization)                                                ]                             \n",
      "                                                                                                  \n",
      " block_1_expand (Conv2D)     (None, 112, 112, 96)         1536      ['expanded_conv_project_BN[0][\n",
      "                                                                    0]']                          \n",
      "                                                                                                  \n",
      " block_1_expand_BN (BatchNo  (None, 112, 112, 96)         384       ['block_1_expand[0][0]']      \n",
      " rmalization)                                                                                     \n",
      "                                                                                                  \n",
      " block_1_expand_relu (ReLU)  (None, 112, 112, 96)         0         ['block_1_expand_BN[0][0]']   \n",
      "                                                                                                  \n",
      " block_1_pad (ZeroPadding2D  (None, 113, 113, 96)         0         ['block_1_expand_relu[0][0]'] \n",
      " )                                                                                                \n",
      "                                                                                                  \n",
      " block_1_depthwise (Depthwi  (None, 56, 56, 96)           864       ['block_1_pad[0][0]']         \n",
      " seConv2D)                                                                                        \n",
      "                                                                                                  \n",
      " block_1_depthwise_BN (Batc  (None, 56, 56, 96)           384       ['block_1_depthwise[0][0]']   \n",
      " hNormalization)                                                                                  \n",
      "                                                                                                  \n",
      " block_1_depthwise_relu (Re  (None, 56, 56, 96)           0         ['block_1_depthwise_BN[0][0]']\n",
      " LU)                                                                                              \n",
      "                                                                                                  \n",
      " block_1_project (Conv2D)    (None, 56, 56, 24)           2304      ['block_1_depthwise_relu[0][0]\n",
      "                                                                    ']                            \n",
      "                                                                                                  \n",
      " block_1_project_BN (BatchN  (None, 56, 56, 24)           96        ['block_1_project[0][0]']     \n",
      " ormalization)                                                                                    \n",
      "                                                                                                  \n",
      " block_2_expand (Conv2D)     (None, 56, 56, 144)          3456      ['block_1_project_BN[0][0]']  \n",
      "                                                                                                  \n",
      " block_2_expand_BN (BatchNo  (None, 56, 56, 144)          576       ['block_2_expand[0][0]']      \n",
      " rmalization)                                                                                     \n",
      "                                                                                                  \n",
      " block_2_expand_relu (ReLU)  (None, 56, 56, 144)          0         ['block_2_expand_BN[0][0]']   \n",
      "                                                                                                  \n",
      " block_2_depthwise (Depthwi  (None, 56, 56, 144)          1296      ['block_2_expand_relu[0][0]'] \n",
      " seConv2D)                                                                                        \n",
      "                                                                                                  \n",
      " block_2_depthwise_BN (Batc  (None, 56, 56, 144)          576       ['block_2_depthwise[0][0]']   \n",
      " hNormalization)                                                                                  \n",
      "                                                                                                  \n",
      " block_2_depthwise_relu (Re  (None, 56, 56, 144)          0         ['block_2_depthwise_BN[0][0]']\n",
      " LU)                                                                                              \n",
      "                                                                                                  \n",
      " block_2_project (Conv2D)    (None, 56, 56, 24)           3456      ['block_2_depthwise_relu[0][0]\n",
      "                                                                    ']                            \n",
      "                                                                                                  \n",
      " block_2_project_BN (BatchN  (None, 56, 56, 24)           96        ['block_2_project[0][0]']     \n",
      " ormalization)                                                                                    \n",
      "                                                                                                  \n",
      " block_2_add (Add)           (None, 56, 56, 24)           0         ['block_1_project_BN[0][0]',  \n",
      "                                                                     'block_2_project_BN[0][0]']  \n",
      "                                                                                                  \n",
      " block_3_expand (Conv2D)     (None, 56, 56, 144)          3456      ['block_2_add[0][0]']         \n",
      "                                                                                                  \n",
      " block_3_expand_BN (BatchNo  (None, 56, 56, 144)          576       ['block_3_expand[0][0]']      \n",
      " rmalization)                                                                                     \n",
      "                                                                                                  \n",
      " block_3_expand_relu (ReLU)  (None, 56, 56, 144)          0         ['block_3_expand_BN[0][0]']   \n",
      "                                                                                                  \n",
      " block_3_pad (ZeroPadding2D  (None, 57, 57, 144)          0         ['block_3_expand_relu[0][0]'] \n",
      " )                                                                                                \n",
      "                                                                                                  \n",
      " block_3_depthwise (Depthwi  (None, 28, 28, 144)          1296      ['block_3_pad[0][0]']         \n",
      " seConv2D)                                                                                        \n",
      "                                                                                                  \n",
      " block_3_depthwise_BN (Batc  (None, 28, 28, 144)          576       ['block_3_depthwise[0][0]']   \n",
      " hNormalization)                                                                                  \n",
      "                                                                                                  \n",
      " block_3_depthwise_relu (Re  (None, 28, 28, 144)          0         ['block_3_depthwise_BN[0][0]']\n",
      " LU)                                                                                              \n",
      "                                                                                                  \n",
      " block_3_project (Conv2D)    (None, 28, 28, 32)           4608      ['block_3_depthwise_relu[0][0]\n",
      "                                                                    ']                            \n",
      "                                                                                                  \n",
      " block_3_project_BN (BatchN  (None, 28, 28, 32)           128       ['block_3_project[0][0]']     \n",
      " ormalization)                                                                                    \n",
      "                                                                                                  \n",
      " block_4_expand (Conv2D)     (None, 28, 28, 192)          6144      ['block_3_project_BN[0][0]']  \n",
      "                                                                                                  \n",
      " block_4_expand_BN (BatchNo  (None, 28, 28, 192)          768       ['block_4_expand[0][0]']      \n",
      " rmalization)                                                                                     \n",
      "                                                                                                  \n",
      " block_4_expand_relu (ReLU)  (None, 28, 28, 192)          0         ['block_4_expand_BN[0][0]']   \n",
      "                                                                                                  \n",
      " block_4_depthwise (Depthwi  (None, 28, 28, 192)          1728      ['block_4_expand_relu[0][0]'] \n",
      " seConv2D)                                                                                        \n",
      "                                                                                                  \n",
      " block_4_depthwise_BN (Batc  (None, 28, 28, 192)          768       ['block_4_depthwise[0][0]']   \n",
      " hNormalization)                                                                                  \n",
      "                                                                                                  \n",
      " block_4_depthwise_relu (Re  (None, 28, 28, 192)          0         ['block_4_depthwise_BN[0][0]']\n",
      " LU)                                                                                              \n",
      "                                                                                                  \n",
      " block_4_project (Conv2D)    (None, 28, 28, 32)           6144      ['block_4_depthwise_relu[0][0]\n",
      "                                                                    ']                            \n",
      "                                                                                                  \n",
      " block_4_project_BN (BatchN  (None, 28, 28, 32)           128       ['block_4_project[0][0]']     \n",
      " ormalization)                                                                                    \n",
      "                                                                                                  \n",
      " block_4_add (Add)           (None, 28, 28, 32)           0         ['block_3_project_BN[0][0]',  \n",
      "                                                                     'block_4_project_BN[0][0]']  \n",
      "                                                                                                  \n",
      " block_5_expand (Conv2D)     (None, 28, 28, 192)          6144      ['block_4_add[0][0]']         \n",
      "                                                                                                  \n",
      " block_5_expand_BN (BatchNo  (None, 28, 28, 192)          768       ['block_5_expand[0][0]']      \n",
      " rmalization)                                                                                     \n",
      "                                                                                                  \n",
      " block_5_expand_relu (ReLU)  (None, 28, 28, 192)          0         ['block_5_expand_BN[0][0]']   \n",
      "                                                                                                  \n",
      " block_5_depthwise (Depthwi  (None, 28, 28, 192)          1728      ['block_5_expand_relu[0][0]'] \n",
      " seConv2D)                                                                                        \n",
      "                                                                                                  \n",
      " block_5_depthwise_BN (Batc  (None, 28, 28, 192)          768       ['block_5_depthwise[0][0]']   \n",
      " hNormalization)                                                                                  \n",
      "                                                                                                  \n",
      " block_5_depthwise_relu (Re  (None, 28, 28, 192)          0         ['block_5_depthwise_BN[0][0]']\n",
      " LU)                                                                                              \n",
      "                                                                                                  \n",
      " block_5_project (Conv2D)    (None, 28, 28, 32)           6144      ['block_5_depthwise_relu[0][0]\n",
      "                                                                    ']                            \n",
      "                                                                                                  \n",
      " block_5_project_BN (BatchN  (None, 28, 28, 32)           128       ['block_5_project[0][0]']     \n",
      " ormalization)                                                                                    \n",
      "                                                                                                  \n",
      " block_5_add (Add)           (None, 28, 28, 32)           0         ['block_4_add[0][0]',         \n",
      "                                                                     'block_5_project_BN[0][0]']  \n",
      "                                                                                                  \n",
      " block_6_expand (Conv2D)     (None, 28, 28, 192)          6144      ['block_5_add[0][0]']         \n",
      "                                                                                                  \n",
      " block_6_expand_BN (BatchNo  (None, 28, 28, 192)          768       ['block_6_expand[0][0]']      \n",
      " rmalization)                                                                                     \n",
      "                                                                                                  \n",
      " block_6_expand_relu (ReLU)  (None, 28, 28, 192)          0         ['block_6_expand_BN[0][0]']   \n",
      "                                                                                                  \n",
      " block_6_pad (ZeroPadding2D  (None, 29, 29, 192)          0         ['block_6_expand_relu[0][0]'] \n",
      " )                                                                                                \n",
      "                                                                                                  \n",
      " block_6_depthwise (Depthwi  (None, 14, 14, 192)          1728      ['block_6_pad[0][0]']         \n",
      " seConv2D)                                                                                        \n",
      "                                                                                                  \n",
      " block_6_depthwise_BN (Batc  (None, 14, 14, 192)          768       ['block_6_depthwise[0][0]']   \n",
      " hNormalization)                                                                                  \n",
      "                                                                                                  \n",
      " block_6_depthwise_relu (Re  (None, 14, 14, 192)          0         ['block_6_depthwise_BN[0][0]']\n",
      " LU)                                                                                              \n",
      "                                                                                                  \n",
      " block_6_project (Conv2D)    (None, 14, 14, 64)           12288     ['block_6_depthwise_relu[0][0]\n",
      "                                                                    ']                            \n",
      "                                                                                                  \n",
      " block_6_project_BN (BatchN  (None, 14, 14, 64)           256       ['block_6_project[0][0]']     \n",
      " ormalization)                                                                                    \n",
      "                                                                                                  \n",
      " block_7_expand (Conv2D)     (None, 14, 14, 384)          24576     ['block_6_project_BN[0][0]']  \n",
      "                                                                                                  \n",
      " block_7_expand_BN (BatchNo  (None, 14, 14, 384)          1536      ['block_7_expand[0][0]']      \n",
      " rmalization)                                                                                     \n",
      "                                                                                                  \n",
      " block_7_expand_relu (ReLU)  (None, 14, 14, 384)          0         ['block_7_expand_BN[0][0]']   \n",
      "                                                                                                  \n",
      " block_7_depthwise (Depthwi  (None, 14, 14, 384)          3456      ['block_7_expand_relu[0][0]'] \n",
      " seConv2D)                                                                                        \n",
      "                                                                                                  \n",
      " block_7_depthwise_BN (Batc  (None, 14, 14, 384)          1536      ['block_7_depthwise[0][0]']   \n",
      " hNormalization)                                                                                  \n",
      "                                                                                                  \n",
      " block_7_depthwise_relu (Re  (None, 14, 14, 384)          0         ['block_7_depthwise_BN[0][0]']\n",
      " LU)                                                                                              \n",
      "                                                                                                  \n",
      " block_7_project (Conv2D)    (None, 14, 14, 64)           24576     ['block_7_depthwise_relu[0][0]\n",
      "                                                                    ']                            \n",
      "                                                                                                  \n",
      " block_7_project_BN (BatchN  (None, 14, 14, 64)           256       ['block_7_project[0][0]']     \n",
      " ormalization)                                                                                    \n",
      "                                                                                                  \n",
      " block_7_add (Add)           (None, 14, 14, 64)           0         ['block_6_project_BN[0][0]',  \n",
      "                                                                     'block_7_project_BN[0][0]']  \n",
      "                                                                                                  \n",
      " block_8_expand (Conv2D)     (None, 14, 14, 384)          24576     ['block_7_add[0][0]']         \n",
      "                                                                                                  \n",
      " block_8_expand_BN (BatchNo  (None, 14, 14, 384)          1536      ['block_8_expand[0][0]']      \n",
      " rmalization)                                                                                     \n",
      "                                                                                                  \n",
      " block_8_expand_relu (ReLU)  (None, 14, 14, 384)          0         ['block_8_expand_BN[0][0]']   \n",
      "                                                                                                  \n",
      " block_8_depthwise (Depthwi  (None, 14, 14, 384)          3456      ['block_8_expand_relu[0][0]'] \n",
      " seConv2D)                                                                                        \n",
      "                                                                                                  \n",
      " block_8_depthwise_BN (Batc  (None, 14, 14, 384)          1536      ['block_8_depthwise[0][0]']   \n",
      " hNormalization)                                                                                  \n",
      "                                                                                                  \n",
      " block_8_depthwise_relu (Re  (None, 14, 14, 384)          0         ['block_8_depthwise_BN[0][0]']\n",
      " LU)                                                                                              \n",
      "                                                                                                  \n",
      " block_8_project (Conv2D)    (None, 14, 14, 64)           24576     ['block_8_depthwise_relu[0][0]\n",
      "                                                                    ']                            \n",
      "                                                                                                  \n",
      " block_8_project_BN (BatchN  (None, 14, 14, 64)           256       ['block_8_project[0][0]']     \n",
      " ormalization)                                                                                    \n",
      "                                                                                                  \n",
      " block_8_add (Add)           (None, 14, 14, 64)           0         ['block_7_add[0][0]',         \n",
      "                                                                     'block_8_project_BN[0][0]']  \n",
      "                                                                                                  \n",
      " block_9_expand (Conv2D)     (None, 14, 14, 384)          24576     ['block_8_add[0][0]']         \n",
      "                                                                                                  \n",
      " block_9_expand_BN (BatchNo  (None, 14, 14, 384)          1536      ['block_9_expand[0][0]']      \n",
      " rmalization)                                                                                     \n",
      "                                                                                                  \n",
      " block_9_expand_relu (ReLU)  (None, 14, 14, 384)          0         ['block_9_expand_BN[0][0]']   \n",
      "                                                                                                  \n",
      " block_9_depthwise (Depthwi  (None, 14, 14, 384)          3456      ['block_9_expand_relu[0][0]'] \n",
      " seConv2D)                                                                                        \n",
      "                                                                                                  \n",
      " block_9_depthwise_BN (Batc  (None, 14, 14, 384)          1536      ['block_9_depthwise[0][0]']   \n",
      " hNormalization)                                                                                  \n",
      "                                                                                                  \n",
      " block_9_depthwise_relu (Re  (None, 14, 14, 384)          0         ['block_9_depthwise_BN[0][0]']\n",
      " LU)                                                                                              \n",
      "                                                                                                  \n",
      " block_9_project (Conv2D)    (None, 14, 14, 64)           24576     ['block_9_depthwise_relu[0][0]\n",
      "                                                                    ']                            \n",
      "                                                                                                  \n",
      " block_9_project_BN (BatchN  (None, 14, 14, 64)           256       ['block_9_project[0][0]']     \n",
      " ormalization)                                                                                    \n",
      "                                                                                                  \n",
      " block_9_add (Add)           (None, 14, 14, 64)           0         ['block_8_add[0][0]',         \n",
      "                                                                     'block_9_project_BN[0][0]']  \n",
      "                                                                                                  \n",
      " block_10_expand (Conv2D)    (None, 14, 14, 384)          24576     ['block_9_add[0][0]']         \n",
      "                                                                                                  \n",
      " block_10_expand_BN (BatchN  (None, 14, 14, 384)          1536      ['block_10_expand[0][0]']     \n",
      " ormalization)                                                                                    \n",
      "                                                                                                  \n",
      " block_10_expand_relu (ReLU  (None, 14, 14, 384)          0         ['block_10_expand_BN[0][0]']  \n",
      " )                                                                                                \n",
      "                                                                                                  \n",
      " block_10_depthwise (Depthw  (None, 14, 14, 384)          3456      ['block_10_expand_relu[0][0]']\n",
      " iseConv2D)                                                                                       \n",
      "                                                                                                  \n",
      " block_10_depthwise_BN (Bat  (None, 14, 14, 384)          1536      ['block_10_depthwise[0][0]']  \n",
      " chNormalization)                                                                                 \n",
      "                                                                                                  \n",
      " block_10_depthwise_relu (R  (None, 14, 14, 384)          0         ['block_10_depthwise_BN[0][0]'\n",
      " eLU)                                                               ]                             \n",
      "                                                                                                  \n",
      " block_10_project (Conv2D)   (None, 14, 14, 96)           36864     ['block_10_depthwise_relu[0][0\n",
      "                                                                    ]']                           \n",
      "                                                                                                  \n",
      " block_10_project_BN (Batch  (None, 14, 14, 96)           384       ['block_10_project[0][0]']    \n",
      " Normalization)                                                                                   \n",
      "                                                                                                  \n",
      " block_11_expand (Conv2D)    (None, 14, 14, 576)          55296     ['block_10_project_BN[0][0]'] \n",
      "                                                                                                  \n",
      " block_11_expand_BN (BatchN  (None, 14, 14, 576)          2304      ['block_11_expand[0][0]']     \n",
      " ormalization)                                                                                    \n",
      "                                                                                                  \n",
      " block_11_expand_relu (ReLU  (None, 14, 14, 576)          0         ['block_11_expand_BN[0][0]']  \n",
      " )                                                                                                \n",
      "                                                                                                  \n",
      " block_11_depthwise (Depthw  (None, 14, 14, 576)          5184      ['block_11_expand_relu[0][0]']\n",
      " iseConv2D)                                                                                       \n",
      "                                                                                                  \n",
      " block_11_depthwise_BN (Bat  (None, 14, 14, 576)          2304      ['block_11_depthwise[0][0]']  \n",
      " chNormalization)                                                                                 \n",
      "                                                                                                  \n",
      " block_11_depthwise_relu (R  (None, 14, 14, 576)          0         ['block_11_depthwise_BN[0][0]'\n",
      " eLU)                                                               ]                             \n",
      "                                                                                                  \n",
      " block_11_project (Conv2D)   (None, 14, 14, 96)           55296     ['block_11_depthwise_relu[0][0\n",
      "                                                                    ]']                           \n",
      "                                                                                                  \n",
      " block_11_project_BN (Batch  (None, 14, 14, 96)           384       ['block_11_project[0][0]']    \n",
      " Normalization)                                                                                   \n",
      "                                                                                                  \n",
      " block_11_add (Add)          (None, 14, 14, 96)           0         ['block_10_project_BN[0][0]', \n",
      "                                                                     'block_11_project_BN[0][0]'] \n",
      "                                                                                                  \n",
      " block_12_expand (Conv2D)    (None, 14, 14, 576)          55296     ['block_11_add[0][0]']        \n",
      "                                                                                                  \n",
      " block_12_expand_BN (BatchN  (None, 14, 14, 576)          2304      ['block_12_expand[0][0]']     \n",
      " ormalization)                                                                                    \n",
      "                                                                                                  \n",
      " block_12_expand_relu (ReLU  (None, 14, 14, 576)          0         ['block_12_expand_BN[0][0]']  \n",
      " )                                                                                                \n",
      "                                                                                                  \n",
      " block_12_depthwise (Depthw  (None, 14, 14, 576)          5184      ['block_12_expand_relu[0][0]']\n",
      " iseConv2D)                                                                                       \n",
      "                                                                                                  \n",
      " block_12_depthwise_BN (Bat  (None, 14, 14, 576)          2304      ['block_12_depthwise[0][0]']  \n",
      " chNormalization)                                                                                 \n",
      "                                                                                                  \n",
      " block_12_depthwise_relu (R  (None, 14, 14, 576)          0         ['block_12_depthwise_BN[0][0]'\n",
      " eLU)                                                               ]                             \n",
      "                                                                                                  \n",
      " block_12_project (Conv2D)   (None, 14, 14, 96)           55296     ['block_12_depthwise_relu[0][0\n",
      "                                                                    ]']                           \n",
      "                                                                                                  \n",
      " block_12_project_BN (Batch  (None, 14, 14, 96)           384       ['block_12_project[0][0]']    \n",
      " Normalization)                                                                                   \n",
      "                                                                                                  \n",
      " block_12_add (Add)          (None, 14, 14, 96)           0         ['block_11_add[0][0]',        \n",
      "                                                                     'block_12_project_BN[0][0]'] \n",
      "                                                                                                  \n",
      " block_13_expand (Conv2D)    (None, 14, 14, 576)          55296     ['block_12_add[0][0]']        \n",
      "                                                                                                  \n",
      " block_13_expand_BN (BatchN  (None, 14, 14, 576)          2304      ['block_13_expand[0][0]']     \n",
      " ormalization)                                                                                    \n",
      "                                                                                                  \n",
      " block_13_expand_relu (ReLU  (None, 14, 14, 576)          0         ['block_13_expand_BN[0][0]']  \n",
      " )                                                                                                \n",
      "                                                                                                  \n",
      " block_13_pad (ZeroPadding2  (None, 15, 15, 576)          0         ['block_13_expand_relu[0][0]']\n",
      " D)                                                                                               \n",
      "                                                                                                  \n",
      " block_13_depthwise (Depthw  (None, 7, 7, 576)            5184      ['block_13_pad[0][0]']        \n",
      " iseConv2D)                                                                                       \n",
      "                                                                                                  \n",
      " block_13_depthwise_BN (Bat  (None, 7, 7, 576)            2304      ['block_13_depthwise[0][0]']  \n",
      " chNormalization)                                                                                 \n",
      "                                                                                                  \n",
      " block_13_depthwise_relu (R  (None, 7, 7, 576)            0         ['block_13_depthwise_BN[0][0]'\n",
      " eLU)                                                               ]                             \n",
      "                                                                                                  \n",
      " block_13_project (Conv2D)   (None, 7, 7, 160)            92160     ['block_13_depthwise_relu[0][0\n",
      "                                                                    ]']                           \n",
      "                                                                                                  \n",
      " block_13_project_BN (Batch  (None, 7, 7, 160)            640       ['block_13_project[0][0]']    \n",
      " Normalization)                                                                                   \n",
      "                                                                                                  \n",
      " block_14_expand (Conv2D)    (None, 7, 7, 960)            153600    ['block_13_project_BN[0][0]'] \n",
      "                                                                                                  \n",
      " block_14_expand_BN (BatchN  (None, 7, 7, 960)            3840      ['block_14_expand[0][0]']     \n",
      " ormalization)                                                                                    \n",
      "                                                                                                  \n",
      " block_14_expand_relu (ReLU  (None, 7, 7, 960)            0         ['block_14_expand_BN[0][0]']  \n",
      " )                                                                                                \n",
      "                                                                                                  \n",
      " block_14_depthwise (Depthw  (None, 7, 7, 960)            8640      ['block_14_expand_relu[0][0]']\n",
      " iseConv2D)                                                                                       \n",
      "                                                                                                  \n",
      " block_14_depthwise_BN (Bat  (None, 7, 7, 960)            3840      ['block_14_depthwise[0][0]']  \n",
      " chNormalization)                                                                                 \n",
      "                                                                                                  \n",
      " block_14_depthwise_relu (R  (None, 7, 7, 960)            0         ['block_14_depthwise_BN[0][0]'\n",
      " eLU)                                                               ]                             \n",
      "                                                                                                  \n",
      " block_14_project (Conv2D)   (None, 7, 7, 160)            153600    ['block_14_depthwise_relu[0][0\n",
      "                                                                    ]']                           \n",
      "                                                                                                  \n",
      " block_14_project_BN (Batch  (None, 7, 7, 160)            640       ['block_14_project[0][0]']    \n",
      " Normalization)                                                                                   \n",
      "                                                                                                  \n",
      " block_14_add (Add)          (None, 7, 7, 160)            0         ['block_13_project_BN[0][0]', \n",
      "                                                                     'block_14_project_BN[0][0]'] \n",
      "                                                                                                  \n",
      " block_15_expand (Conv2D)    (None, 7, 7, 960)            153600    ['block_14_add[0][0]']        \n",
      "                                                                                                  \n",
      " block_15_expand_BN (BatchN  (None, 7, 7, 960)            3840      ['block_15_expand[0][0]']     \n",
      " ormalization)                                                                                    \n",
      "                                                                                                  \n",
      " block_15_expand_relu (ReLU  (None, 7, 7, 960)            0         ['block_15_expand_BN[0][0]']  \n",
      " )                                                                                                \n",
      "                                                                                                  \n",
      " block_15_depthwise (Depthw  (None, 7, 7, 960)            8640      ['block_15_expand_relu[0][0]']\n",
      " iseConv2D)                                                                                       \n",
      "                                                                                                  \n",
      " block_15_depthwise_BN (Bat  (None, 7, 7, 960)            3840      ['block_15_depthwise[0][0]']  \n",
      " chNormalization)                                                                                 \n",
      "                                                                                                  \n",
      " block_15_depthwise_relu (R  (None, 7, 7, 960)            0         ['block_15_depthwise_BN[0][0]'\n",
      " eLU)                                                               ]                             \n",
      "                                                                                                  \n",
      " block_15_project (Conv2D)   (None, 7, 7, 160)            153600    ['block_15_depthwise_relu[0][0\n",
      "                                                                    ]']                           \n",
      "                                                                                                  \n",
      " block_15_project_BN (Batch  (None, 7, 7, 160)            640       ['block_15_project[0][0]']    \n",
      " Normalization)                                                                                   \n",
      "                                                                                                  \n",
      " block_15_add (Add)          (None, 7, 7, 160)            0         ['block_14_add[0][0]',        \n",
      "                                                                     'block_15_project_BN[0][0]'] \n",
      "                                                                                                  \n",
      " block_16_expand (Conv2D)    (None, 7, 7, 960)            153600    ['block_15_add[0][0]']        \n",
      "                                                                                                  \n",
      " block_16_expand_BN (BatchN  (None, 7, 7, 960)            3840      ['block_16_expand[0][0]']     \n",
      " ormalization)                                                                                    \n",
      "                                                                                                  \n",
      " block_16_expand_relu (ReLU  (None, 7, 7, 960)            0         ['block_16_expand_BN[0][0]']  \n",
      " )                                                                                                \n",
      "                                                                                                  \n",
      " block_16_depthwise (Depthw  (None, 7, 7, 960)            8640      ['block_16_expand_relu[0][0]']\n",
      " iseConv2D)                                                                                       \n",
      "                                                                                                  \n",
      " block_16_depthwise_BN (Bat  (None, 7, 7, 960)            3840      ['block_16_depthwise[0][0]']  \n",
      " chNormalization)                                                                                 \n",
      "                                                                                                  \n",
      " block_16_depthwise_relu (R  (None, 7, 7, 960)            0         ['block_16_depthwise_BN[0][0]'\n",
      " eLU)                                                               ]                             \n",
      "                                                                                                  \n",
      " block_16_project (Conv2D)   (None, 7, 7, 320)            307200    ['block_16_depthwise_relu[0][0\n",
      "                                                                    ]']                           \n",
      "                                                                                                  \n",
      " block_16_project_BN (Batch  (None, 7, 7, 320)            1280      ['block_16_project[0][0]']    \n",
      " Normalization)                                                                                   \n",
      "                                                                                                  \n",
      " Conv_1 (Conv2D)             (None, 7, 7, 1280)           409600    ['block_16_project_BN[0][0]'] \n",
      "                                                                                                  \n",
      " Conv_1_bn (BatchNormalizat  (None, 7, 7, 1280)           5120      ['Conv_1[0][0]']              \n",
      " ion)                                                                                             \n",
      "                                                                                                  \n",
      " out_relu (ReLU)             (None, 7, 7, 1280)           0         ['Conv_1_bn[0][0]']           \n",
      "                                                                                                  \n",
      " global_average_pooling2d (  (None, 1280)                 0         ['out_relu[0][0]']            \n",
      " GlobalAveragePooling2D)                                                                          \n",
      "                                                                                                  \n",
      "==================================================================================================\n",
      "Total params: 2257984 (8.61 MB)\n",
      "Trainable params: 2223872 (8.48 MB)\n",
      "Non-trainable params: 34112 (133.25 KB)\n",
      "__________________________________________________________________________________________________\n"
     ]
    }
   ],
   "source": [
    "new_model.summary()"
   ]
  },
  {
   "cell_type": "markdown",
   "metadata": {},
   "source": [
    "Tous les workeurs doivent pouvoir accéder au modèle ainsi qu'à ses poids. <br />\n",
    "Une bonne pratique consiste à charger le modèle sur le driver puis à diffuser <br />\n",
    "ensuite les poids aux différents workeurs."
   ]
  },
  {
   "cell_type": "code",
   "execution_count": 11,
   "metadata": {},
   "outputs": [],
   "source": [
    "brodcast_weights = sc.broadcast(new_model.get_weights())"
   ]
  },
  {
   "cell_type": "markdown",
   "metadata": {},
   "source": [
    "<u>Mettons cela sous forme de fonction</u> :"
   ]
  },
  {
   "cell_type": "code",
   "execution_count": 12,
   "metadata": {},
   "outputs": [],
   "source": [
    "def model_fn():\n",
    "    \"\"\"\n",
    "    Returns a MobileNetV2 model with top layer removed \n",
    "    and broadcasted pretrained weights.\n",
    "    \"\"\"\n",
    "    model = MobileNetV2(weights='imagenet',\n",
    "                        include_top=True,\n",
    "                        input_shape=(224, 224, 3))\n",
    "    for layer in model.layers:\n",
    "        layer.trainable = False\n",
    "    new_model = Model(inputs=model.input,\n",
    "                  outputs=model.layers[-2].output)\n",
    "    new_model.set_weights(brodcast_weights.value)\n",
    "    return new_model"
   ]
  },
  {
   "cell_type": "markdown",
   "metadata": {},
   "source": [
    "### Définition du processus de chargement des images et application <br/>de leur featurisation à travers l'utilisation de pandas UDF\n",
    "\n",
    "Ce notebook définit la logique par étapes, jusqu'à Pandas UDF.\n",
    "\n",
    "<u>L'empilement des appels est la suivante</u> :\n",
    "\n",
    "- Pandas UDF\n",
    "  - featuriser une série d'images pd.Series\n",
    "   - prétraiter une image"
   ]
  },
  {
   "cell_type": "code",
   "execution_count": 13,
   "metadata": {},
   "outputs": [
    {
     "name": "stderr",
     "output_type": "stream",
     "text": [
      "/Users/JoycyRobert/Documents/JUPYTER/OPC/PROJET_8/P8/venv_P8/lib/python3.9/site-packages/pyspark/sql/pandas/functions.py:399: UserWarning: In Python 3.6+ and Spark 3.0+, it is preferred to specify type hints for pandas UDF instead of specifying pandas UDF type which will be deprecated in the future releases. See SPARK-28264 for more details.\n",
      "  warnings.warn(\n"
     ]
    }
   ],
   "source": [
    "def preprocess(content):\n",
    "    \"\"\"\n",
    "    Preprocesses raw image bytes for prediction.\n",
    "    \"\"\"\n",
    "    img = Image.open(io.BytesIO(content)).resize([224, 224])\n",
    "    arr = img_to_array(img)\n",
    "    return preprocess_input(arr)\n",
    "\n",
    "def featurize_series(model, content_series):\n",
    "    \"\"\"\n",
    "    Featurize a pd.Series of raw images using the input model.\n",
    "    :return: a pd.Series of image features\n",
    "    \"\"\"\n",
    "    input = np.stack(content_series.map(preprocess))\n",
    "    preds = model.predict(input)\n",
    "    # For some layers, output features will be multi-dimensional tensors.\n",
    "    # We flatten the feature tensors to vectors for easier storage in Spark DataFrames.\n",
    "    output = [p.flatten() for p in preds]\n",
    "    return pd.Series(output)\n",
    "\n",
    "@pandas_udf('array<float>', PandasUDFType.SCALAR_ITER)\n",
    "def featurize_udf(content_series_iter):\n",
    "    '''\n",
    "    This method is a Scalar Iterator pandas UDF wrapping our featurization function.\n",
    "    The decorator specifies that this returns a Spark DataFrame column of type ArrayType(FloatType).\n",
    "\n",
    "    :param content_series_iter: This argument is an iterator over batches of data, where each batch\n",
    "                              is a pandas Series of image data.\n",
    "    '''\n",
    "    # With Scalar Iterator pandas UDFs, we can load the model once and then re-use it\n",
    "    # for multiple data batches.  This amortizes the overhead of loading big models.\n",
    "    model = model_fn()\n",
    "    for content_series in content_series_iter:\n",
    "        yield featurize_series(model, content_series)"
   ]
  },
  {
   "cell_type": "markdown",
   "metadata": {},
   "source": [
    "### 3.7.4 Exécution des actions d'extraction de features\n",
    "\n",
    "Les Pandas UDF, sur de grands enregistrements (par exemple, de très grandes images), <br />\n",
    "peuvent rencontrer des erreurs de type Out Of Memory (OOM).<br />\n",
    "Si vous rencontrez de telles erreurs dans la cellule ci-dessous, <br />\n",
    "essayez de réduire la taille du lot Arrow via 'maxRecordsPerBatch'\n",
    "\n",
    "Je n'utiliserai pas cette commande dans ce projet <br />\n",
    "et je laisse donc la commande en commentaire."
   ]
  },
  {
   "cell_type": "code",
   "execution_count": 14,
   "metadata": {},
   "outputs": [],
   "source": [
    "# spark.conf.set(\"spark.sql.execution.arrow.maxRecordsPerBatch\", \"1024\")"
   ]
  },
  {
   "cell_type": "markdown",
   "metadata": {},
   "source": [
    "Nous pouvons maintenant exécuter la featurisation sur l'ensemble de notre DataFrame Spark.<br />\n",
    "<u>REMARQUE</u> : Cela peut prendre beaucoup de temps, tout dépend du volume de données à traiter. <br />\n",
    "\n",
    "Notre jeu de données de **Test** contient **22819 images**. <br />\n",
    "Cependant, dans l'exécution en mode **local**, <br />\n",
    "nous <u>traiterons un ensemble réduit de **330 images**</u>."
   ]
  },
  {
   "cell_type": "code",
   "execution_count": 15,
   "metadata": {},
   "outputs": [],
   "source": [
    "features_df = images.repartition(10).select(col(\"path\"),\n",
    "                                            col(\"label\"),\n",
    "                                            featurize_udf(\"content\").alias(\"features\")\n",
    "                                           )"
   ]
  },
  {
   "cell_type": "markdown",
   "metadata": {},
   "source": [
    "<u>Rappel du PATH où seront inscrits les fichiers au format \"**parquet**\" <br />\n",
    "contenant nos résultats, à savoir, un DataFrame contenant 3 colonnes</u> :\n",
    " 1. Path des images\n",
    " 2. Label de l'image\n",
    " 3. Vecteur de caractéristiques de l'image"
   ]
  },
  {
   "cell_type": "code",
   "execution_count": 16,
   "metadata": {},
   "outputs": [
    {
     "name": "stdout",
     "output_type": "stream",
     "text": [
      "/Users/JoycyRobert/Documents/JUPYTER/OPC/PROJET_8/P8/data/Results\n"
     ]
    }
   ],
   "source": [
    "print(PATH_Result)"
   ]
  },
  {
   "cell_type": "markdown",
   "metadata": {},
   "source": [
    "<u>Enregistrement des données traitées au format \"**parquet**\"</u> :"
   ]
  },
  {
   "cell_type": "code",
   "execution_count": 17,
   "metadata": {},
   "outputs": [
    {
     "name": "stderr",
     "output_type": "stream",
     "text": [
      "2023-09-19 15:33:37.716365: I tensorflow/core/platform/cpu_feature_guard.cc:182] This TensorFlow binary is optimized to use available CPU instructions in performance-critical operations.\n",
      "To enable the following instructions: AVX2 FMA, in other operations, rebuild TensorFlow with the appropriate compiler flags.\n",
      "1/1 [==============================] - 1s 1s/step\n",
      "1/1 [==============================] - 1s 1s/step                  (1 + 1) / 10]\n",
      "1/1 [==============================] - 1s 1s/step                  (2 + 1) / 10]\n",
      "1/1 [==============================] - 1s 1s/step                  (3 + 1) / 10]\n",
      "WARNING:tensorflow:5 out of the last 5 calls to <function Model.make_predict_function.<locals>.predict_function at 0x7fe9b67ce040> triggered tf.function retracing. Tracing is expensive and the excessive number of tracings could be due to (1) creating @tf.function repeatedly in a loop, (2) passing tensors with different shapes, (3) passing Python objects instead of tensors. For (1), please define your @tf.function outside of the loop. For (2), @tf.function has reduce_retracing=True option that can avoid unnecessary retracing. For (3), please refer to https://www.tensorflow.org/guide/function#controlling_retracing and https://www.tensorflow.org/api_docs/python/tf/function for  more details.\n",
      "1/1 [==============================] - 1s 1s/step\n",
      "WARNING:tensorflow:6 out of the last 6 calls to <function Model.make_predict_function.<locals>.predict_function at 0x7fe9996f6d30> triggered tf.function retracing. Tracing is expensive and the excessive number of tracings could be due to (1) creating @tf.function repeatedly in a loop, (2) passing tensors with different shapes, (3) passing Python objects instead of tensors. For (1), please define your @tf.function outside of the loop. For (2), @tf.function has reduce_retracing=True option that can avoid unnecessary retracing. For (3), please refer to https://www.tensorflow.org/guide/function#controlling_retracing and https://www.tensorflow.org/api_docs/python/tf/function for  more details.\n",
      "1/1 [==============================] - 1s 997ms/step\n",
      "1/1 [==============================] - 1s 983ms/step               (6 + 1) / 10]\n",
      "1/1 [==============================] - 1s 964ms/step               (7 + 1) / 10]\n",
      "1/1 [==============================] - 1s 988ms/step===>           (8 + 1) / 10]\n",
      "1/1 [==============================] - 1s 1s/step============>     (9 + 1) / 10]\n",
      "                                                                                \r"
     ]
    }
   ],
   "source": [
    "features_df.write.mode(\"overwrite\").parquet(PATH_Result)"
   ]
  },
  {
   "cell_type": "markdown",
   "metadata": {},
   "source": [
    "## Chargement des données enregistrées et validation du résultat\n",
    "\n",
    "<u>On charge les données fraichement enregistrées dans un **DataFrame Pandas**</u> :"
   ]
  },
  {
   "cell_type": "code",
   "execution_count": 18,
   "metadata": {},
   "outputs": [],
   "source": [
    "df = pd.read_parquet(PATH_Result, engine='pyarrow')"
   ]
  },
  {
   "cell_type": "markdown",
   "metadata": {},
   "source": [
    "<u>On affiche les 5 premières lignes du DataFrame</u> :"
   ]
  },
  {
   "cell_type": "code",
   "execution_count": 19,
   "metadata": {},
   "outputs": [
    {
     "data": {
      "text/html": [
       "<div>\n",
       "<style scoped>\n",
       "    .dataframe tbody tr th:only-of-type {\n",
       "        vertical-align: middle;\n",
       "    }\n",
       "\n",
       "    .dataframe tbody tr th {\n",
       "        vertical-align: top;\n",
       "    }\n",
       "\n",
       "    .dataframe thead th {\n",
       "        text-align: right;\n",
       "    }\n",
       "</style>\n",
       "<table border=\"1\" class=\"dataframe\">\n",
       "  <thead>\n",
       "    <tr style=\"text-align: right;\">\n",
       "      <th></th>\n",
       "      <th>path</th>\n",
       "      <th>label</th>\n",
       "      <th>features</th>\n",
       "    </tr>\n",
       "  </thead>\n",
       "  <tbody>\n",
       "    <tr>\n",
       "      <th>0</th>\n",
       "      <td>file:/Users/JoycyRobert/Documents/JUPYTER/OPC/...</td>\n",
       "      <td>Apricot</td>\n",
       "      <td>[0.9467754, 0.5196316, 0.0, 0.010057771, 0.016...</td>\n",
       "    </tr>\n",
       "    <tr>\n",
       "      <th>1</th>\n",
       "      <td>file:/Users/JoycyRobert/Documents/JUPYTER/OPC/...</td>\n",
       "      <td>Banana</td>\n",
       "      <td>[0.26353976, 0.0, 0.0, 0.0, 1.0935742, 0.02494...</td>\n",
       "    </tr>\n",
       "    <tr>\n",
       "      <th>2</th>\n",
       "      <td>file:/Users/JoycyRobert/Documents/JUPYTER/OPC/...</td>\n",
       "      <td>Avocado</td>\n",
       "      <td>[1.3703408, 0.0, 0.30703285, 0.0, 0.0, 0.23501...</td>\n",
       "    </tr>\n",
       "    <tr>\n",
       "      <th>3</th>\n",
       "      <td>file:/Users/JoycyRobert/Documents/JUPYTER/OPC/...</td>\n",
       "      <td>Apricot</td>\n",
       "      <td>[0.55438334, 0.03335581, 0.0, 0.0, 0.1443844, ...</td>\n",
       "    </tr>\n",
       "    <tr>\n",
       "      <th>4</th>\n",
       "      <td>file:/Users/JoycyRobert/Documents/JUPYTER/OPC/...</td>\n",
       "      <td>Apricot</td>\n",
       "      <td>[1.0993195, 0.00024267119, 0.0, 0.0, 0.0863437...</td>\n",
       "    </tr>\n",
       "  </tbody>\n",
       "</table>\n",
       "</div>"
      ],
      "text/plain": [
       "                                                path    label  \\\n",
       "0  file:/Users/JoycyRobert/Documents/JUPYTER/OPC/...  Apricot   \n",
       "1  file:/Users/JoycyRobert/Documents/JUPYTER/OPC/...   Banana   \n",
       "2  file:/Users/JoycyRobert/Documents/JUPYTER/OPC/...  Avocado   \n",
       "3  file:/Users/JoycyRobert/Documents/JUPYTER/OPC/...  Apricot   \n",
       "4  file:/Users/JoycyRobert/Documents/JUPYTER/OPC/...  Apricot   \n",
       "\n",
       "                                            features  \n",
       "0  [0.9467754, 0.5196316, 0.0, 0.010057771, 0.016...  \n",
       "1  [0.26353976, 0.0, 0.0, 0.0, 1.0935742, 0.02494...  \n",
       "2  [1.3703408, 0.0, 0.30703285, 0.0, 0.0, 0.23501...  \n",
       "3  [0.55438334, 0.03335581, 0.0, 0.0, 0.1443844, ...  \n",
       "4  [1.0993195, 0.00024267119, 0.0, 0.0, 0.0863437...  "
      ]
     },
     "execution_count": 19,
     "metadata": {},
     "output_type": "execute_result"
    }
   ],
   "source": [
    "df.head()"
   ]
  },
  {
   "cell_type": "markdown",
   "metadata": {},
   "source": [
    "<u>On valide que la dimension du vecteur de caractéristiques des images est bien de dimension 1280</u> :"
   ]
  },
  {
   "cell_type": "code",
   "execution_count": 20,
   "metadata": {},
   "outputs": [
    {
     "data": {
      "text/plain": [
       "(1280,)"
      ]
     },
     "execution_count": 20,
     "metadata": {},
     "output_type": "execute_result"
    }
   ],
   "source": [
    "df.loc[0,'features'].shape"
   ]
  },
  {
   "cell_type": "code",
   "execution_count": 21,
   "metadata": {},
   "outputs": [
    {
     "data": {
      "text/plain": [
       "(28, 3)"
      ]
     },
     "execution_count": 21,
     "metadata": {},
     "output_type": "execute_result"
    }
   ],
   "source": [
    "df.shape"
   ]
  },
  {
   "cell_type": "markdown",
   "metadata": {},
   "source": [
    "Nous venons de valider le processus sur un jeu de données allégé en local <br />\n",
    "où nous avons simulé un cluster de machines en répartissant la charge de travail <br />\n",
    "sur différents cœurs de processeur au sein d'une même machine.\n",
    "\n",
    "Nous allons maintenant généraliser le processus en déployant notre solution <br />\n",
    "sur un réel cluster de machines et nous travaillerons désormais sur la totalité <br />\n",
    "des 22819 images de notre dossier \"Test\"."
   ]
  },
  {
   "cell_type": "markdown",
   "metadata": {},
   "source": [
    "## Analyse en composantes principales "
   ]
  },
  {
   "cell_type": "code",
   "execution_count": 22,
   "metadata": {},
   "outputs": [],
   "source": [
    "from pyspark.sql import SparkSession\n",
    "from pyspark.ml.feature import PCA\n",
    "from pyspark.ml.linalg import Vectors\n",
    "from pyspark.ml.feature import VectorAssembler\n",
    "from pyspark.sql.functions import col\n",
    "from pyspark.sql.types import ArrayType, DoubleType, StringType"
   ]
  },
  {
   "cell_type": "code",
   "execution_count": 23,
   "metadata": {},
   "outputs": [
    {
     "data": {
      "text/plain": [
       "Index(['path', 'label', 'features'], dtype='object')"
      ]
     },
     "execution_count": 23,
     "metadata": {},
     "output_type": "execute_result"
    }
   ],
   "source": [
    "df.columns"
   ]
  },
  {
   "cell_type": "code",
   "execution_count": 24,
   "metadata": {},
   "outputs": [
    {
     "data": {
      "text/plain": [
       "array([0.9467754 , 0.5196316 , 0.        , ..., 0.07286832, 0.        ,\n",
       "       0.        ], dtype=float32)"
      ]
     },
     "execution_count": 24,
     "metadata": {},
     "output_type": "execute_result"
    }
   ],
   "source": [
    "df['features'][0]"
   ]
  },
  {
   "cell_type": "code",
   "execution_count": 25,
   "metadata": {},
   "outputs": [
    {
     "name": "stdout",
     "output_type": "stream",
     "text": [
      "root\n",
      " |-- path: string (nullable = true)\n",
      " |-- label: string (nullable = true)\n",
      " |-- features: array (nullable = true)\n",
      " |    |-- element: float (containsNull = true)\n",
      "\n"
     ]
    }
   ],
   "source": [
    "features_df.printSchema()"
   ]
  },
  {
   "cell_type": "code",
   "execution_count": 26,
   "metadata": {},
   "outputs": [
    {
     "data": {
      "text/plain": [
       "['path', 'label', 'features']"
      ]
     },
     "execution_count": 26,
     "metadata": {},
     "output_type": "execute_result"
    }
   ],
   "source": [
    "features_df.columns"
   ]
  },
  {
   "cell_type": "code",
   "execution_count": 27,
   "metadata": {},
   "outputs": [],
   "source": [
    "#  Example from pyspark documentation \n",
    "\n",
    "from pyspark.ml.linalg import Vectors\n",
    "data_ex = [(Vectors.sparse(5, [(1, 1.0), (3, 7.0)]),),\n",
    "    (Vectors.dense([2.0, 0.0, 3.0, 4.0, 5.0]),),\n",
    "    (Vectors.dense([4.0, 0.0, 0.0, 6.0, 7.0]),)]\n",
    "df_ex = spark.createDataFrame(data_ex,[\"features\"])"
   ]
  },
  {
   "cell_type": "code",
   "execution_count": 28,
   "metadata": {},
   "outputs": [
    {
     "name": "stderr",
     "output_type": "stream",
     "text": [
      "[Stage 4:>                                                          (0 + 1) / 1]\r"
     ]
    },
    {
     "name": "stdout",
     "output_type": "stream",
     "text": [
      "+--------------------+\n",
      "|            features|\n",
      "+--------------------+\n",
      "| (5,[1,3],[1.0,7.0])|\n",
      "|[2.0,0.0,3.0,4.0,...|\n",
      "|[4.0,0.0,0.0,6.0,...|\n",
      "+--------------------+\n",
      "\n"
     ]
    },
    {
     "name": "stderr",
     "output_type": "stream",
     "text": [
      "                                                                                \r"
     ]
    }
   ],
   "source": [
    "df_ex.show()"
   ]
  },
  {
   "cell_type": "code",
   "execution_count": 29,
   "metadata": {},
   "outputs": [
    {
     "name": "stderr",
     "output_type": "stream",
     "text": [
      "1/1 [==============================] - 1s 1s/step                   (0 + 1) / 1]\n",
      "1/1 [==============================] - 1s 1s/step                   (0 + 1) / 4]\n",
      "1/1 [==============================] - 1s 1s/step                   (1 + 1) / 4]\n",
      "1/1 [==============================] - 1s 927ms/step                (2 + 1) / 4]\n",
      "1/1 [==============================] - 1s 1s/step====>              (3 + 1) / 4]\n",
      "1/1 [==============================] - 1s 923ms/step                (0 + 1) / 3]\n",
      "1/1 [==============================] - 1s 921ms/step                (1 + 1) / 3]\n",
      "[Stage 11:======================================>                   (2 + 1) / 3]\r"
     ]
    },
    {
     "name": "stdout",
     "output_type": "stream",
     "text": [
      "+--------------------+-------+--------------------+\n",
      "|                path|  label|            features|\n",
      "+--------------------+-------+--------------------+\n",
      "|file:/Users/Joycy...|Apricot|[0.9467754, 0.519...|\n",
      "|file:/Users/Joycy...| Banana|[0.26353976, 0.0,...|\n",
      "|file:/Users/Joycy...|Avocado|[1.3703408, 0.0, ...|\n",
      "|file:/Users/Joycy...|Apricot|[0.55438334, 0.03...|\n",
      "|file:/Users/Joycy...|Apricot|[1.0993195, 2.426...|\n",
      "|file:/Users/Joycy...|Avocado|[0.37964696, 0.0,...|\n",
      "|file:/Users/Joycy...| Banana|[1.1546928, 0.064...|\n",
      "|file:/Users/Joycy...| Banana|[1.8319335, 0.0, ...|\n",
      "|file:/Users/Joycy...| Banana|[1.237112, 0.1186...|\n",
      "|file:/Users/Joycy...|Apricot|[0.89959294, 0.0,...|\n",
      "|file:/Users/Joycy...|Apricot|[0.9467928, 0.061...|\n",
      "|file:/Users/Joycy...| Banana|[0.04606829, 0.04...|\n",
      "|file:/Users/Joycy...| Banana|[0.028012188, 0.0...|\n",
      "|file:/Users/Joycy...|Apricot|[0.7736844, 0.042...|\n",
      "|file:/Users/Joycy...| Banana|[1.2731441, 0.075...|\n",
      "|file:/Users/Joycy...| Banana|[1.2445862, 0.066...|\n",
      "|file:/Users/Joycy...|Avocado|[0.8680058, 0.001...|\n",
      "|file:/Users/Joycy...| Banana|[0.31428486, 0.00...|\n",
      "|file:/Users/Joycy...| Banana|[0.9945031, 0.011...|\n",
      "|file:/Users/Joycy...|Avocado|[0.05614495, 0.0,...|\n",
      "+--------------------+-------+--------------------+\n",
      "only showing top 20 rows\n",
      "\n"
     ]
    },
    {
     "name": "stderr",
     "output_type": "stream",
     "text": [
      "1/1 [==============================] - 1s 1s/step\n",
      "                                                                                \r"
     ]
    }
   ],
   "source": [
    "features_df.show()"
   ]
  },
  {
   "cell_type": "code",
   "execution_count": 30,
   "metadata": {},
   "outputs": [
    {
     "name": "stderr",
     "output_type": "stream",
     "text": [
      "1/1 [==============================] - 1s 1s/step                   (0 + 1) / 1]\n",
      "                                                                                \r"
     ]
    },
    {
     "data": {
      "text/plain": [
       "Row(path='file:/Users/JoycyRobert/Documents/JUPYTER/OPC/PROJET_8/P8/data/Test1/Apricot/90_100.jpg', label='Apricot', features=[0.9467743635177612, 0.5196321606636047, 0.0, 0.010057352483272552, 0.016932876780629158, 0.14489887654781342, 0.28260236978530884, 0.036334194242954254, 0.7007402181625366, 0.27605345845222473, 0.20499014854431152, 0.3174382746219635, 0.08214661478996277, 0.0, 0.003290001302957535, 0.5765994191169739, 0.0, 0.011557277292013168, 0.12357444316148758, 0.1446794718503952, 0.0, 0.21958962082862854, 0.0, 0.1127864196896553, 0.0, 0.0, 0.012632311321794987, 0.087211012840271, 0.0, 0.009029855951666832, 0.0, 0.0, 0.0, 0.10818367451429367, 0.0, 0.026793217286467552, 2.773812770843506, 1.4509016275405884, 0.47576063871383667, 0.0, 0.06348806619644165, 0.0, 0.3379289209842682, 0.086782306432724, 0.0, 0.0, 1.0656020641326904, 1.5054692029953003, 0.5794548988342285, 0.18621283769607544, 0.08606820553541183, 0.2312014251947403, 0.0, 0.0, 0.011017478071153164, 2.040660858154297, 0.030935335904359818, 0.0, 0.012970642186701298, 0.0, 0.0, 0.5493142008781433, 0.09304844588041306, 0.0, 1.0056105852127075, 0.4918185770511627, 0.02871902659535408, 0.0, 0.13376037776470184, 1.0531197786331177, 0.0, 0.04320772364735603, 0.0, 0.4043807089328766, 0.9261236190795898, 0.021845808252692223, 1.1109521389007568, 0.0, 0.0, 0.0, 0.1261463165283203, 0.2718576192855835, 0.0, 0.0, 0.0, 0.0, 0.0, 0.0, 0.24573804438114166, 0.09976278245449066, 1.4136637449264526, 0.04211375117301941, 0.05480361357331276, 0.0, 2.4259345531463623, 0.0, 0.0, 0.0, 0.0, 0.00834567192941904, 3.3478167057037354, 0.06340689212083817, 0.0, 0.0, 0.17646151781082153, 0.0, 0.0, 0.4579869210720062, 0.0, 0.003216432174667716, 0.0, 0.30195197463035583, 0.1280592530965805, 1.5893430709838867, 0.759752631187439, 0.0, 0.0021222366485744715, 0.0031517476309090853, 0.06223125010728836, 0.3451671302318573, 0.0, 0.0, 0.0, 2.2345657348632812, 0.1867188811302185, 0.035904981195926666, 2.292982816696167, 4.043447494506836, 0.6427810788154602, 0.8539958000183105, 0.04638584330677986, 0.01708514429628849, 0.5363878011703491, 0.0, 0.0, 0.0, 0.0, 0.0, 0.009454464539885521, 0.8009125590324402, 0.0, 1.6454695463180542, 0.0, 1.9850587844848633, 0.0, 0.0, 0.5106441974639893, 1.759784460067749, 0.0, 0.05133404955267906, 0.9559519290924072, 0.0320838987827301, 0.09036527574062347, 0.004325847141444683, 0.011940168216824532, 0.5056727528572083, 0.0007214448996819556, 0.2038685381412506, 0.2578403949737549, 0.0, 0.005292016547173262, 0.01548811886459589, 0.0, 0.2312735766172409, 0.007761439308524132, 0.5703507661819458, 0.05972353368997574, 0.06955078989267349, 0.8781911134719849, 0.1412220299243927, 0.2781538665294647, 0.2396356165409088, 0.026120342314243317, 0.0, 0.0, 1.2333945035934448, 0.17959633469581604, 0.0, 0.17251689732074738, 0.01615988463163376, 1.2527846097946167, 0.0, 3.5268495082855225, 0.0, 2.3953158855438232, 0.8965965509414673, 0.060775503516197205, 1.000841736793518, 0.0, 0.0, 0.07754677534103394, 0.28732359409332275, 0.0, 1.3267698287963867, 1.180854320526123, 0.20165817439556122, 0.0, 0.0, 0.3041394352912903, 1.973578929901123, 0.0, 0.012614386156201363, 0.0, 1.0422444343566895, 0.13502487540245056, 0.025170356035232544, 0.0, 0.6291832327842712, 0.0, 0.0, 0.0, 0.0, 1.8366225957870483, 0.0, 0.0, 0.7883506417274475, 0.2792631983757019, 0.010114737786352634, 0.0, 0.0, 0.021509481593966484, 0.0, 0.06577568501234055, 0.33029648661613464, 0.0, 0.07184749096632004, 0.8567148447036743, 0.0, 0.11738046258687973, 0.9501903057098389, 0.13157100975513458, 0.15379881858825684, 0.0, 0.0, 0.0, 0.048383887857198715, 0.03846907243132591, 0.0, 0.0, 2.1984615325927734, 1.4441208839416504, 0.0, 0.32379090785980225, 0.02739040181040764, 0.0, 0.3878762423992157, 0.3794775605201721, 0.006102591287344694, 0.0, 0.08377502113580704, 0.4674775004386902, 0.0, 0.02151978760957718, 0.602281928062439, 0.0, 4.495303630828857, 0.6263169050216675, 4.2740864753723145, 1.0095399618148804, 0.005783324129879475, 0.0, 1.5628864765167236, 0.0, 0.057032469660043716, 0.002034420846030116, 0.0, 0.0, 0.0, 0.0, 0.4028259217739105, 0.15588529407978058, 0.00645547965541482, 1.092390775680542, 0.0, 0.0, 0.0, 0.0, 0.4123133718967438, 0.503557026386261, 0.0, 1.7198045253753662, 0.0, 0.0, 1.0420048236846924, 1.0601707696914673, 0.0, 0.0, 0.0, 0.0, 0.0, 0.0, 0.0681261420249939, 0.0, 1.3023607730865479, 0.0, 0.5823630690574646, 0.0, 0.9127153754234314, 0.0024375233333557844, 0.0, 0.0, 0.5332300066947937, 0.5575582385063171, 0.0, 1.8282170295715332, 0.0, 0.0, 0.0, 0.4114702045917511, 0.08341270685195923, 1.6600470542907715, 0.032756999135017395, 0.0, 0.11018438637256622, 0.0, 0.00501042976975441, 0.06415951251983643, 0.0, 0.0, 0.0, 0.0, 0.5971179008483887, 0.5907883048057556, 1.4688720703125, 0.0, 0.0, 0.0, 0.0, 0.0, 0.33949512243270874, 0.029879949986934662, 0.16935013234615326, 2.032201051712036, 0.04103576019406319, 1.9369226694107056, 0.0, 0.2329217493534088, 0.0, 0.0, 0.3942377269268036, 0.0, 0.0, 0.0, 0.0, 1.8195234537124634, 0.043028365820646286, 0.11489345878362656, 0.0, 0.0, 0.0, 0.0, 0.0, 0.0, 2.7654829025268555, 0.0, 0.029397176578640938, 0.0, 0.00811767578125, 0.17040793597698212, 0.0, 0.0, 0.07632366567850113, 0.015408817678689957, 0.0442279614508152, 0.0, 0.16350777447223663, 0.6611277461051941, 0.0, 0.006459255702793598, 0.0, 0.08888501673936844, 0.0, 0.0, 0.061402272433042526, 0.9063687920570374, 0.0, 0.0, 0.4358094334602356, 0.026160288602113724, 0.0, 0.8520649671554565, 0.0, 0.9281851053237915, 0.0, 0.27970144152641296, 0.0, 0.11868404597043991, 0.0, 1.4427989721298218, 1.1456187963485718, 0.35796505212783813, 0.0, 0.1669747531414032, 0.0, 1.6691217422485352, 0.0, 0.06218380853533745, 0.5720490217208862, 0.0, 0.0993880033493042, 0.0, 0.1421433985233307, 0.551571786403656, 0.0, 0.06876147538423538, 0.463733971118927, 1.2074106931686401, 0.0, 0.06043516844511032, 0.3111216127872467, 1.2437257766723633, 3.619310140609741, 0.0, 0.0, 0.0, 0.0, 0.0, 0.4768562316894531, 0.0, 2.3815207481384277, 0.0, 0.47110357880592346, 0.0, 0.0, 0.6337389945983887, 0.012370605953037739, 0.8061093091964722, 0.0, 0.0739511251449585, 0.0, 0.0, 0.011387533508241177, 0.0, 0.0005204142071306705, 0.05546062812209129, 0.0, 0.0, 0.13576264679431915, 0.0, 0.12366275489330292, 0.0, 0.1247338205575943, 3.108884334564209, 0.6524519920349121, 1.5486334562301636, 1.1434340476989746, 0.18279795348644257, 0.0, 0.0, 0.0, 0.0, 0.9167473316192627, 0.0010847266530618072, 0.4560379981994629, 0.8099818229675293, 0.7325975894927979, 0.0, 0.02794085629284382, 0.8124502301216125, 0.6688433885574341, 2.0979666709899902, 0.2980939447879791, 0.0, 0.0, 0.0, 0.0, 1.0546669960021973, 0.2485801875591278, 1.5459975004196167, 0.0, 0.13473831117153168, 0.023319341242313385, 0.0, 0.9262222051620483, 0.701622486114502, 0.0, 0.0, 0.7271777391433716, 0.0, 1.1273101568222046, 0.04201596975326538, 0.07393240183591843, 0.0, 0.033364102244377136, 0.13737621903419495, 1.179349660873413, 0.7635423541069031, 1.3311026096343994, 0.0, 0.0007738774875178933, 1.008131742477417, 0.42049360275268555, 0.010203381069004536, 3.3797607421875, 1.3894578218460083, 0.05780927464365959, 0.7735565900802612, 0.5109845399856567, 0.0, 0.0, 0.9931110739707947, 2.0328152179718018, 0.0, 0.12702354788780212, 0.004948888439685106, 0.013520746491849422, 0.0, 0.0, 0.0, 0.1576908528804779, 0.0013216952793300152, 0.0, 0.009184964001178741, 0.0, 0.0, 0.37441325187683105, 0.0, 0.5333988666534424, 0.9109687805175781, 0.38623061776161194, 0.0, 2.193294048309326, 0.0, 1.3531923294067383, 0.0, 0.1890212446451187, 0.33423855900764465, 0.8031443953514099, 2.623699903488159, 0.1016177386045456, 0.0, 2.064514636993408, 0.0, 0.8520078659057617, 0.006739888805896044, 0.4068163335323334, 0.0, 0.0, 0.08883246779441833, 0.0, 0.0, 0.0, 0.17562732100486755, 0.0, 0.0, 0.0, 0.09398968517780304, 0.9150466918945312, 0.19061443209648132, 0.101163350045681, 0.0, 0.0, 0.0005600695731118321, 0.11217337846755981, 0.441726416349411, 0.0, 0.0, 0.009777195751667023, 0.16204921901226044, 1.51543390750885, 0.18394865095615387, 0.0, 0.02570725418627262, 0.06747017055749893, 0.27197563648223877, 0.9531692862510681, 0.0, 0.0, 0.08798996359109879, 0.0, 0.006529603619128466, 2.093881845474243, 0.0, 0.0, 0.0, 0.009005799889564514, 1.7608020305633545, 0.10953444242477417, 0.0, 2.0085067749023438, 1.7031840085983276, 0.0, 0.0, 0.0, 0.20550358295440674, 0.0, 0.005739951506257057, 0.0, 2.0135486125946045, 0.21386010944843292, 0.05054644122719765, 0.0, 0.0, 1.3183473348617554, 0.38527798652648926, 0.0, 0.0, 0.08541504293680191, 0.5315790176391602, 0.0, 0.0, 0.0028952870052307844, 1.7841130495071411, 0.07056077569723129, 0.0, 0.0, 0.09057878702878952, 0.0, 0.37718018889427185, 0.0023198225535452366, 2.271420955657959, 0.0, 0.0, 0.0, 0.5095146298408508, 0.0, 0.10938896238803864, 0.20914942026138306, 0.0, 0.044578056782484055, 0.0, 0.09679660201072693, 1.043395757675171, 0.0, 0.030957134440541267, 0.0, 0.0, 0.0, 0.0415702760219574, 0.168740376830101, 0.1387518346309662, 0.2470083385705948, 0.2005625218153, 0.0, 0.0, 0.047109223902225494, 0.024452414363622665, 0.26165884733200073, 0.20730219781398773, 1.130466341972351, 0.269791841506958, 1.4097540378570557, 2.804316282272339, 0.025958236306905746, 0.12422268092632294, 0.0, 0.0, 0.033297501504421234, 0.24634964764118195, 0.0, 0.0, 0.012801793403923512, 0.0, 0.0, 1.4243214130401611, 0.0, 1.4835096597671509, 0.14893174171447754, 0.0, 0.06157290190458298, 1.1257563829421997, 0.0, 0.905651330947876, 0.0, 0.10842711478471756, 0.14846761524677277, 0.0, 0.04963730648159981, 0.1901243031024933, 0.016348546370863914, 0.0, 0.4106263518333435, 1.6364233493804932, 1.1310946941375732, 0.09511059522628784, 0.9494369626045227, 0.29569971561431885, 0.0, 0.0, 0.017301715910434723, 0.0, 0.23037898540496826, 0.0, 0.0, 0.3400179147720337, 0.2209164798259735, 0.05561503767967224, 2.2947263717651367, 0.0, 0.7075100541114807, 2.252840995788574, 0.008494814857840538, 0.15552985668182373, 0.0, 1.0528905391693115, 1.338366150856018, 0.06858815997838974, 0.0037661376409232616, 0.0, 0.0, 0.0, 0.10374946892261505, 0.16562899947166443, 0.0, 0.0, 0.0, 0.3038325905799866, 0.0, 0.41341733932495117, 0.0, 0.0, 0.008830702863633633, 0.0, 0.7783713936805725, 2.297884464263916, 0.14067062735557556, 0.0, 1.5278829336166382, 0.0, 0.0, 0.0, 0.0, 0.6544402241706848, 0.0, 0.025765838101506233, 0.15337888896465302, 0.03069572150707245, 0.7751222848892212, 0.0, 0.0, 0.0, 0.8919306397438049, 0.9169189929962158, 0.0, 0.0, 0.0077680861577391624, 0.04241231828927994, 0.0, 0.6282681226730347, 0.12503990530967712, 0.2797032296657562, 1.6513073444366455, 0.0, 0.03607507795095444, 0.031359437853097916, 0.0, 0.0, 0.16437077522277832, 0.2148139476776123, 0.25011685490608215, 0.0, 0.0, 0.09103597700595856, 1.2802385091781616, 0.0, 0.0, 1.3672184944152832, 0.006933027412742376, 0.11314670741558075, 0.008981986902654171, 0.0, 1.0268354415893555, 0.11192961037158966, 0.0, 0.0, 0.0, 0.5076889395713806, 0.0, 0.24177761375904083, 0.0, 1.799039602279663, 0.08013102412223816, 0.12228038161993027, 0.030997568741440773, 0.019806550815701485, 0.4487418234348297, 0.46657678484916687, 0.10288210958242416, 0.0, 0.04029413312673569, 0.0, 0.022403473034501076, 0.045455291867256165, 0.1728820949792862, 0.19787749648094177, 0.0, 0.0, 0.0, 0.7776493430137634, 0.007424879819154739, 0.12163787335157394, 1.730036973953247, 0.0, 0.5177187919616699, 0.0, 0.0, 0.0, 0.0, 0.0, 0.0, 0.0, 0.0, 0.0, 0.008805975317955017, 2.2641372680664062, 0.0, 0.019004538655281067, 0.0, 0.1391637772321701, 0.4148930013179779, 0.023616012185811996, 0.18011435866355896, 0.0, 0.21035391092300415, 0.025429559871554375, 0.8380612730979919, 0.0, 0.0, 0.0, 0.3350974917411804, 2.906686544418335, 0.003325228812173009, 0.0, 0.012242997996509075, 0.0, 0.014201349578797817, 0.0, 2.9247870445251465, 0.0, 2.3365719318389893, 0.16488125920295715, 1.5400701761245728, 1.3395814895629883, 0.0, 0.10600623488426208, 0.044626567512750626, 0.0075562926940619946, 0.03924182057380676, 1.2128928899765015, 0.00046378737897612154, 0.0769367441534996, 0.1777375340461731, 0.0, 0.39931434392929077, 0.023411041125655174, 1.528397560119629, 0.0, 1.1454496383666992, 0.0, 0.0, 0.0, 2.010005474090576, 0.0, 0.026407435536384583, 0.0, 0.0012605531373992562, 2.111211061477661, 0.026877062395215034, 0.0, 0.029469354078173637, 0.06932469457387924, 0.0, 0.0, 1.2803725004196167, 0.0, 0.008060941472649574, 0.0, 0.022107357159256935, 1.505582571029663, 0.6405416131019592, 0.0, 0.0, 0.02441375143826008, 1.262232780456543, 0.47994908690452576, 0.0, 0.0, 0.007024190854281187, 0.0, 1.7372421026229858, 0.0, 0.32938435673713684, 0.0, 0.008984371088445187, 0.3207565248012543, 0.08270111680030823, 1.1219028234481812, 0.0, 0.4405497610569, 0.08927565813064575, 0.39133185148239136, 0.0, 0.0, 1.3929102420806885, 0.0, 0.019819600507616997, 0.5758634805679321, 0.16943059861660004, 0.2577116787433624, 0.0, 0.0, 0.17190979421138763, 0.027026019990444183, 0.0, 0.0, 0.03397555276751518, 0.0, 0.4475812315940857, 0.0, 1.0949078798294067, 0.0, 0.18273206055164337, 1.0624228715896606, 0.0, 0.0, 1.1968382596969604, 0.07969898730516434, 1.5870168209075928, 1.4718018770217896, 0.0, 0.0, 0.08765232563018799, 0.0, 0.00922541692852974, 0.26485559344291687, 0.5337018966674805, 0.18518587946891785, 1.4260029792785645, 0.5829079151153564, 0.008764374069869518, 0.0, 0.01774764619767666, 0.0, 1.2012914419174194, 0.0, 0.0021393639035522938, 1.7720510959625244, 0.0, 0.0, 0.7325244545936584, 0.0, 0.5260589718818665, 0.014307226054370403, 2.3828623294830322, 0.02478255145251751, 0.13039149343967438, 0.8044034838676453, 0.0, 0.21552899479866028, 0.06675726920366287, 0.29965516924858093, 1.5563759803771973, 0.017095692455768585, 0.02436133846640587, 0.004894334357231855, 1.4512007236480713, 0.0, 0.0, 0.0, 0.1718911975622177, 0.0, 0.0, 0.0, 0.0, 0.942943274974823, 0.02616639994084835, 0.0, 0.6206270456314087, 0.000389683002140373, 0.04779485613107681, 0.700787365436554, 2.5316150188446045, 0.0, 4.1602020263671875, 0.159447580575943, 0.0, 0.33863040804862976, 0.7560968399047852, 0.04033319279551506, 0.04632501304149628, 0.037859391421079636, 0.0, 0.03611656278371811, 0.0, 0.054452478885650635, 0.0106476666405797, 0.0, 0.0, 0.0006445184117183089, 0.237210214138031, 0.20745615661144257, 0.0, 0.0, 0.7094264030456543, 0.7389793992042542, 0.5779692530632019, 0.06923458725214005, 0.10288922488689423, 0.0, 0.2737875282764435, 0.027131840586662292, 0.663306713104248, 0.3453388512134552, 0.0, 0.09675999730825424, 0.0, 0.42836785316467285, 0.0, 0.0, 0.4790879189968109, 0.46445414423942566, 0.07031945884227753, 0.005048596300184727, 0.0, 0.25188693404197693, 0.31317320466041565, 0.1621059775352478, 0.39150330424308777, 0.0, 0.0, 2.681323289871216, 0.8654546141624451, 0.01368648186326027, 0.0, 0.0, 0.0, 1.448846459388733, 0.0, 0.861925482749939, 0.0, 0.0, 0.0, 0.0, 0.6473336219787598, 0.0, 0.0, 0.0, 0.09627889096736908, 0.0, 0.13181830942630768, 0.006316836923360825, 0.0, 0.20123505592346191, 0.0, 0.0, 0.0, 0.0, 0.0, 0.0, 0.0, 0.04148783162236214, 0.0, 1.8059300184249878, 0.2710684835910797, 2.087409257888794, 0.4926254451274872, 0.026622051373124123, 0.9798405170440674, 0.0, 0.0, 0.8652227520942688, 0.11498689651489258, 0.08580243587493896, 0.005336917005479336, 1.241284728050232, 0.08858226984739304, 0.25427764654159546, 0.05458236113190651, 0.711066722869873, 0.2515375018119812, 0.2656346261501312, 0.0, 1.4807435274124146, 0.3527677059173584, 0.013200555928051472, 0.005755570251494646, 0.04260209947824478, 1.745444893836975, 1.1961426734924316, 0.0, 0.04286583140492439, 0.3154706060886383, 0.0, 0.2078271061182022, 0.009062543511390686, 0.7626999616622925, 0.0, 0.03631739690899849, 0.04243674501776695, 2.7250776290893555, 0.31674954295158386, 1.377224087715149, 0.0019966827239841223, 0.7473167777061462, 0.04951316490769386, 0.0, 0.009722495451569557, 0.0, 0.4500568211078644, 0.2373061627149582, 0.25390592217445374, 0.0, 0.0, 0.062057193368673325, 0.011539118364453316, 0.13289494812488556, 0.0, 0.0, 0.0, 0.0029980894178152084, 0.08900411427021027, 0.028955215588212013, 0.0, 0.0, 0.0, 0.0, 0.2771749794483185, 0.15922851860523224, 0.0, 0.0, 0.14009150862693787, 0.0, 0.0, 0.0, 0.13406431674957275, 0.0, 0.07890082150697708, 0.7136507630348206, 0.7955818176269531, 0.002392797963693738, 0.210704043507576, 1.1924655437469482, 0.008581356145441532, 0.21799464523792267, 2.2439398765563965, 0.019927257671952248, 0.0, 0.6123697757720947, 1.171132206916809, 0.0, 0.043513085693120956, 0.00017115534865297377, 1.5565083026885986, 0.04682561382651329, 0.0, 0.21378213167190552, 0.0, 0.0, 0.0, 0.0, 0.2651570737361908, 0.23301856219768524, 0.0889928862452507, 0.0, 0.0, 0.0, 0.0379607230424881, 0.0, 0.20058974623680115, 0.2824837267398834, 0.2905227541923523, 1.59596848487854, 0.6632238030433655, 0.0, 0.0, 0.0, 0.0, 0.1952023208141327, 0.27329573035240173, 0.0, 0.005743561778217554, 0.0, 2.196986198425293, 0.0, 0.0, 0.680176854133606, 0.0, 0.4809727966785431, 0.0, 0.0, 0.017604496330022812, 0.2366410493850708, 0.14377446472644806, 0.0, 1.8645060062408447, 0.0, 0.05726047605276108, 0.04103641211986542, 0.6179132461547852, 0.0, 0.881111204624176, 0.0, 0.1909615695476532, 2.25215220451355, 0.04809948801994324, 0.0, 0.9493225812911987, 0.0, 1.241289734840393, 0.050970904529094696, 1.7437608242034912, 0.0, 1.4434795379638672, 0.08306968212127686, 0.8913007378578186, 0.0, 0.03828246146440506, 0.008853104896843433, 0.0, 0.0, 0.19344137609004974, 0.0, 0.13686330616474152, 0.5611803531646729, 1.1014751195907593, 0.19657377898693085, 0.19049440324306488, 0.06377293914556503, 0.0, 0.0, 0.2401346117258072, 0.8202435374259949, 1.0985301733016968, 3.3813636302948, 0.603649914264679, 0.9669726490974426, 2.506493330001831, 0.0, 0.09515269845724106, 0.0, 0.556861162185669, 0.427603155374527, 0.0, 0.030232936143875122, 0.5667722225189209, 0.030922695994377136, 0.5504938960075378, 0.0, 0.0, 0.0, 0.21166564524173737, 0.0, 0.031076587736606598, 0.0, 0.0, 0.10103441774845123, 0.15252843499183655, 0.08890551328659058, 0.19977228343486786, 0.0, 0.007859638892114162, 0.5738412737846375, 0.0033856607042253017, 0.0, 0.0, 0.03783395513892174, 0.09845775365829468, 0.0, 0.0, 0.007029854692518711, 0.0, 1.100588321685791, 0.0, 0.6916533708572388, 0.06407509744167328, 1.172605276107788, 0.0, 0.0, 0.14117605984210968, 1.3483927249908447, 0.29853346943855286, 0.005300132557749748, 0.06869307160377502, 0.0, 0.3108702301979065, 0.031215054914355278, 0.0, 0.07286834716796875, 0.0, 0.0])"
      ]
     },
     "execution_count": 30,
     "metadata": {},
     "output_type": "execute_result"
    }
   ],
   "source": [
    "features_df.first()"
   ]
  },
  {
   "cell_type": "code",
   "execution_count": 31,
   "metadata": {},
   "outputs": [],
   "source": [
    "from pyspark.ml.feature import PCA\n",
    "from pyspark.sql.functions import udf\n",
    "from pyspark.ml.linalg import Vectors, VectorUDT\n",
    "\n",
    "# Define a UDF to convert the array<float> to VectorUDT\n",
    "array_to_vector_udf = udf(lambda arr: Vectors.dense(arr), VectorUDT())\n",
    "# Assuming 'features_df' is your PySpark DataFrame\n",
    "# Apply the UDF to create a new column of type VectorUDT\n",
    "features_df = features_df.withColumn(\"features_vector\", array_to_vector_udf(features_df[\"features\"]))"
   ]
  },
  {
   "cell_type": "code",
   "execution_count": 32,
   "metadata": {},
   "outputs": [
    {
     "name": "stderr",
     "output_type": "stream",
     "text": [
      "2023-09-19 15:34:42.689361: I tensorflow/core/platform/cpu_feature_guard.cc:182] This TensorFlow binary is optimized to use available CPU instructions in performance-critical operations.\n",
      "To enable the following instructions: AVX2 FMA, in other operations, rebuild TensorFlow with the appropriate compiler flags.\n",
      "1/1 [==============================] - 1s 1s/step\n",
      "1/1 [==============================] - 1s 989ms/step                (0 + 1) / 4]\n",
      "1/1 [==============================] - 1s 984ms/step                (1 + 1) / 4]\n",
      "1/1 [==============================] - 1s 1s/step                   (2 + 1) / 4]\n",
      "WARNING:tensorflow:5 out of the last 5 calls to <function Model.make_predict_function.<locals>.predict_function at 0x7fe9b66b7040> triggered tf.function retracing. Tracing is expensive and the excessive number of tracings could be due to (1) creating @tf.function repeatedly in a loop, (2) passing tensors with different shapes, (3) passing Python objects instead of tensors. For (1), please define your @tf.function outside of the loop. For (2), @tf.function has reduce_retracing=True option that can avoid unnecessary retracing. For (3), please refer to https://www.tensorflow.org/guide/function#controlling_retracing and https://www.tensorflow.org/api_docs/python/tf/function for  more details.\n",
      "1/1 [==============================] - 1s 970ms/step\n",
      "WARNING:tensorflow:6 out of the last 6 calls to <function Model.make_predict_function.<locals>.predict_function at 0x7fe999349d30> triggered tf.function retracing. Tracing is expensive and the excessive number of tracings could be due to (1) creating @tf.function repeatedly in a loop, (2) passing tensors with different shapes, (3) passing Python objects instead of tensors. For (1), please define your @tf.function outside of the loop. For (2), @tf.function has reduce_retracing=True option that can avoid unnecessary retracing. For (3), please refer to https://www.tensorflow.org/guide/function#controlling_retracing and https://www.tensorflow.org/api_docs/python/tf/function for  more details.\n",
      "1/1 [==============================] - 1s 1s/step\n",
      "1/1 [==============================] - 1s 1s/step                   (1 + 1) / 3]\n",
      "[Stage 21:======================================>                   (2 + 1) / 3]\r"
     ]
    },
    {
     "name": "stdout",
     "output_type": "stream",
     "text": [
      "+--------------------+-------+--------------------+--------------------+\n",
      "|                path|  label|            features|     features_vector|\n",
      "+--------------------+-------+--------------------+--------------------+\n",
      "|file:/Users/Joycy...|Apricot|[0.9467754, 0.519...|[0.94677537679672...|\n",
      "|file:/Users/Joycy...| Banana|[0.26353976, 0.0,...|[0.26353976130485...|\n",
      "|file:/Users/Joycy...|Avocado|[1.3703408, 0.0, ...|[1.37034082412719...|\n",
      "|file:/Users/Joycy...|Apricot|[0.55438334, 0.03...|[0.55438333749771...|\n",
      "|file:/Users/Joycy...|Apricot|[1.0993195, 2.426...|[1.09931945800781...|\n",
      "|file:/Users/Joycy...|Avocado|[0.37964696, 0.0,...|[0.37964695692062...|\n",
      "|file:/Users/Joycy...| Banana|[1.1546928, 0.064...|[1.15469276905059...|\n",
      "|file:/Users/Joycy...| Banana|[1.8319335, 0.0, ...|[1.83193349838256...|\n",
      "|file:/Users/Joycy...| Banana|[1.237112, 0.1186...|[1.23711204528808...|\n",
      "|file:/Users/Joycy...|Apricot|[0.89959294, 0.0,...|[0.89959293603897...|\n",
      "|file:/Users/Joycy...|Apricot|[0.9467928, 0.061...|[0.94679278135299...|\n",
      "|file:/Users/Joycy...| Banana|[0.04606829, 0.04...|[0.04606828838586...|\n",
      "|file:/Users/Joycy...| Banana|[0.028012188, 0.0...|[0.02801218815147...|\n",
      "|file:/Users/Joycy...|Apricot|[0.7736844, 0.042...|[0.77368438243865...|\n",
      "|file:/Users/Joycy...| Banana|[1.2731441, 0.075...|[1.27314412593841...|\n",
      "|file:/Users/Joycy...| Banana|[1.2445862, 0.066...|[1.24458622932434...|\n",
      "|file:/Users/Joycy...|Avocado|[0.8680058, 0.001...|[0.86800581216812...|\n",
      "|file:/Users/Joycy...| Banana|[0.31428486, 0.00...|[0.31428486108779...|\n",
      "|file:/Users/Joycy...| Banana|[0.9945031, 0.011...|[0.99450308084487...|\n",
      "|file:/Users/Joycy...|Avocado|[0.05614495, 0.0,...|[0.05614494904875...|\n",
      "+--------------------+-------+--------------------+--------------------+\n",
      "only showing top 20 rows\n",
      "\n"
     ]
    },
    {
     "name": "stderr",
     "output_type": "stream",
     "text": [
      "1/1 [==============================] - 1s 962ms/step\n",
      "                                                                                \r"
     ]
    }
   ],
   "source": [
    "features_df.show()"
   ]
  },
  {
   "cell_type": "code",
   "execution_count": 33,
   "metadata": {},
   "outputs": [
    {
     "name": "stderr",
     "output_type": "stream",
     "text": [
      "1/1 [==============================] - 1s 1s/step                   (0 + 1) / 1]\n",
      "1/1 [==============================] - 1s 1s/step                   (0 + 1) / 1]\n",
      "1/1 [==============================] - 1s 987ms/step               (0 + 1) / 10]\n",
      "1/1 [==============================] - 1s 994ms/step               (1 + 1) / 10]\n",
      "1/1 [==============================] - 1s 1s/step                  (2 + 1) / 10]\n",
      "1/1 [==============================] - 1s 1s/step                  (3 + 1) / 10]\n",
      "1/1 [==============================] - 1s 1s/step                  (4 + 1) / 10]\n",
      "1/1 [==============================] - 1s 1s/step                  (5 + 1) / 10]\n",
      "1/1 [==============================] - 1s 1s/step                  (6 + 1) / 10]\n",
      "1/1 [==============================] - 1s 1s/step>                 (7 + 1) / 10]\n",
      "1/1 [==============================] - 1s 1s/step======>           (8 + 1) / 10]\n",
      "1/1 [==============================] - 1s 997ms/step=========>     (9 + 1) / 10]\n",
      "1/1 [==============================] - 1s 1s/step                   (0 + 1) / 1]\n",
      "1/1 [==============================] - 1s 1s/step                  (0 + 1) / 10]\n",
      "23/09/19 15:35:52 WARN InstanceBuilder: Failed to load implementation from:dev.ludovic.netlib.blas.JNIBLAS\n",
      "1/1 [==============================] - 1s 989ms/step               (1 + 1) / 10]\n",
      "1/1 [==============================] - 1s 1s/step                  (2 + 1) / 10]\n",
      "1/1 [==============================] - 1s 1s/step                  (3 + 1) / 10]\n",
      "1/1 [==============================] - 1s 1s/step                  (4 + 1) / 10]\n",
      "1/1 [==============================] - 1s 1s/step                  (5 + 1) / 10]\n",
      "1/1 [==============================] - 1s 1s/step                  (6 + 1) / 10]\n",
      "1/1 [==============================] - 1s 1s/step>                 (7 + 1) / 10]\n",
      "1/1 [==============================] - 2s 2s/step======>           (8 + 1) / 10]\n",
      "1/1 [==============================] - 1s 988ms/step=========>     (9 + 1) / 10]\n",
      "23/09/19 15:36:20 WARN InstanceBuilder: Failed to load implementation from:dev.ludovic.netlib.lapack.JNILAPACK\n"
     ]
    }
   ],
   "source": [
    "from pyspark.ml.feature import PCA\n",
    "\n",
    "# Assuming 'features_df' is your PySpark DataFrame\n",
    "num_components = 128 \n",
    "pca = PCA(k=num_components, inputCol='features_vector', outputCol='pca_features')\n",
    "pca_model = pca.fit(features_df)\n",
    "result_df = pca_model.transform(features_df)"
   ]
  },
  {
   "cell_type": "code",
   "execution_count": 34,
   "metadata": {},
   "outputs": [
    {
     "name": "stderr",
     "output_type": "stream",
     "text": [
      "23/09/19 15:36:31 WARN DAGScheduler: Broadcasting large task binary with size 1333.8 KiB\n",
      "1/1 [==============================] - 1s 999ms/step                (0 + 1) / 1]\n",
      "23/09/19 15:36:34 WARN DAGScheduler: Broadcasting large task binary with size 1333.8 KiB\n",
      "1/1 [==============================] - 1s 1s/step                   (0 + 1) / 4]\n",
      "1/1 [==============================] - 1s 1s/step                   (1 + 1) / 4]\n",
      "1/1 [==============================] - 1s 998ms/step                (2 + 1) / 4]\n",
      "1/1 [==============================] - 1s 1s/step====>              (3 + 1) / 4]\n",
      "23/09/19 15:36:45 WARN DAGScheduler: Broadcasting large task binary with size 1333.8 KiB\n",
      "1/1 [==============================] - 1s 1s/step                   (0 + 1) / 3]\n",
      "1/1 [==============================] - 1s 1s/step                   (1 + 1) / 3]\n",
      "[Stage 41:======================================>                   (2 + 1) / 3]\r"
     ]
    },
    {
     "name": "stdout",
     "output_type": "stream",
     "text": [
      "+--------------------+-------+--------------------+--------------------+--------------------+\n",
      "|                path|  label|            features|     features_vector|        pca_features|\n",
      "+--------------------+-------+--------------------+--------------------+--------------------+\n",
      "|file:/Users/Joycy...|Apricot|[0.9467754, 0.519...|[0.94677537679672...|[6.79887916437619...|\n",
      "|file:/Users/Joycy...| Banana|[0.26353976, 0.0,...|[0.26353976130485...|[-9.0094289489083...|\n",
      "|file:/Users/Joycy...|Avocado|[1.3703408, 0.0, ...|[1.37034082412719...|[18.9092465021739...|\n",
      "|file:/Users/Joycy...|Apricot|[0.55438334, 0.03...|[0.55438333749771...|[6.76420927110187...|\n",
      "|file:/Users/Joycy...|Apricot|[1.0993195, 2.426...|[1.09931945800781...|[5.81041076587230...|\n",
      "|file:/Users/Joycy...|Avocado|[0.37964696, 0.0,...|[0.37964695692062...|[12.8023063381090...|\n",
      "|file:/Users/Joycy...| Banana|[1.1546928, 0.064...|[1.15469276905059...|[-7.0325937113686...|\n",
      "|file:/Users/Joycy...| Banana|[1.8319335, 0.0, ...|[1.83193349838256...|[-4.9416634692680...|\n",
      "|file:/Users/Joycy...| Banana|[1.237112, 0.1186...|[1.23711204528808...|[-7.1248464091154...|\n",
      "|file:/Users/Joycy...|Apricot|[0.89959294, 0.0,...|[0.89959293603897...|[5.99858223793229...|\n",
      "|file:/Users/Joycy...|Apricot|[0.9467928, 0.061...|[0.94679278135299...|[5.80837263481082...|\n",
      "|file:/Users/Joycy...| Banana|[0.04606829, 0.04...|[0.04606828838586...|[-8.6920647423784...|\n",
      "|file:/Users/Joycy...| Banana|[0.028012188, 0.0...|[0.02801218815147...|[-8.8902688197556...|\n",
      "|file:/Users/Joycy...|Apricot|[0.7736844, 0.042...|[0.77368438243865...|[2.54550118766766...|\n",
      "|file:/Users/Joycy...| Banana|[1.2731441, 0.075...|[1.27314412593841...|[-7.5058411752842...|\n",
      "|file:/Users/Joycy...| Banana|[1.2445862, 0.066...|[1.24458622932434...|[-7.6641367911747...|\n",
      "|file:/Users/Joycy...|Avocado|[0.8680058, 0.001...|[0.86800581216812...|[19.7528371775203...|\n",
      "|file:/Users/Joycy...| Banana|[0.31428486, 0.00...|[0.31428486108779...|[-8.8184050233786...|\n",
      "|file:/Users/Joycy...| Banana|[0.9945031, 0.011...|[0.99450308084487...|[-7.5529771508492...|\n",
      "|file:/Users/Joycy...|Avocado|[0.05614495, 0.0,...|[0.05614494904875...|[16.8563536609738...|\n",
      "+--------------------+-------+--------------------+--------------------+--------------------+\n",
      "only showing top 20 rows\n",
      "\n"
     ]
    },
    {
     "name": "stderr",
     "output_type": "stream",
     "text": [
      "1/1 [==============================] - 1s 1s/step\n",
      "                                                                                \r"
     ]
    }
   ],
   "source": [
    "result_df.show()"
   ]
  },
  {
   "cell_type": "code",
   "execution_count": 35,
   "metadata": {},
   "outputs": [
    {
     "data": {
      "image/png": "[encoded data removed]",
      "text/plain": [
       "<Figure size 640x480 with 1 Axes>"
      ]
     },
     "metadata": {},
     "output_type": "display_data"
    }
   ],
   "source": [
    "import matplotlib.pyplot as plt\n",
    "from pyspark.sql import functions as F\n",
    "from pyspark.sql.functions import col\n",
    "\n",
    "# Assuming 'result_df' contains the PCA-transformed features and labels\n",
    "# Calculate the explained variance ratio for each principal component\n",
    "# Assuming 'explained_variance' contains the explained variance for each principal component\n",
    "explained_variance = pca_model.explainedVariance.toArray()  # Convert to a NumPy array\n",
    "scree = (explained_variance*100).round(2) \n",
    "# Calculate the cumulative explained variance\n",
    "scree_cum = np.cumsum(scree)\n",
    "\n",
    "x_list = range(1, len(scree[:10])+1)\n",
    "list(x_list)\n",
    "sns.set()\n",
    "fig = plt.bar(x_list, scree[:10])\n",
    "plt.plot(x_list, scree_cum[:10],c=\"red\",marker='o')\n",
    "plt.xlabel(\"Rang de l'axe d'inertie\")\n",
    "plt.ylabel(\"Pourcentage d'inertie\")\n",
    "plt.title(\"Éboulis des valeurs propres\")\n",
    "\n",
    "# Show the combined plot\n",
    "plt.show()\n",
    "plt.savefig('s3://oc-calculsdistribues-p8-jkm-rob/data/Results/eboulis_valeurs.png')"
   ]
  },
  {
   "cell_type": "code",
   "execution_count": 36,
   "metadata": {},
   "outputs": [
    {
     "data": {
      "text/plain": [
       "array([3.32214937e-01, 2.03272213e-01, 1.85784770e-01, 7.91622890e-02,\n",
       "       5.65393237e-02, 4.26651645e-02, 1.83367788e-02, 1.43128131e-02,\n",
       "       1.14590287e-02, 6.64433052e-03, 5.93088444e-03, 5.07380776e-03,\n",
       "       4.93202428e-03, 4.72849000e-03, 4.22098094e-03, 3.86771036e-03,\n",
       "       3.33959139e-03, 3.03673054e-03, 2.80317932e-03, 2.31473086e-03,\n",
       "       1.99677048e-03, 1.85298336e-03, 1.81776436e-03, 1.20683054e-03,\n",
       "       9.87017451e-04, 7.79550782e-04, 7.19304986e-04, 6.22497986e-16,\n",
       "       4.60719484e-16, 3.27708863e-16, 3.05272172e-16, 2.76327696e-16,\n",
       "       2.15134346e-16, 1.85228515e-16, 1.50020712e-16, 1.41455878e-16,\n",
       "       1.34494033e-16, 1.16676948e-16, 1.15176996e-16, 1.05548917e-16,\n",
       "       9.96579734e-17, 9.08411986e-17, 7.28088095e-17, 7.05159259e-17,\n",
       "       6.59510798e-17, 5.91199054e-17, 5.70598967e-17, 5.02425334e-17,\n",
       "       4.90959154e-17, 3.42438524e-17, 3.01443110e-17, 2.81454675e-17,\n",
       "       2.81454675e-17, 2.81454675e-17, 2.81454675e-17, 2.81454675e-17,\n",
       "       2.81454675e-17, 2.81454675e-17, 2.81454675e-17, 2.81454675e-17,\n",
       "       2.81454675e-17, 2.81454675e-17, 2.81454675e-17, 2.81454675e-17,\n",
       "       2.81454675e-17, 2.81454675e-17, 2.81454675e-17, 2.81454675e-17,\n",
       "       2.81454675e-17, 2.81454675e-17, 2.81454675e-17, 2.81454675e-17,\n",
       "       2.81454675e-17, 2.81454675e-17, 2.81454675e-17, 2.81454675e-17,\n",
       "       2.81454675e-17, 2.81454675e-17, 2.81454675e-17, 2.81454675e-17,\n",
       "       2.81454675e-17, 2.81454675e-17, 2.81454675e-17, 2.81454675e-17,\n",
       "       2.81454675e-17, 2.81454675e-17, 2.81454675e-17, 2.81454675e-17,\n",
       "       2.81454675e-17, 2.81454675e-17, 2.81454675e-17, 2.81454675e-17,\n",
       "       2.81454675e-17, 2.81454675e-17, 2.81454675e-17, 2.81454675e-17,\n",
       "       2.81454675e-17, 2.81454675e-17, 2.81454675e-17, 2.81454675e-17,\n",
       "       2.81454675e-17, 2.81454675e-17, 2.81454675e-17, 2.81454675e-17,\n",
       "       2.81454675e-17, 2.81454675e-17, 2.81454675e-17, 2.81454675e-17,\n",
       "       2.81454675e-17, 2.81454675e-17, 2.81454675e-17, 2.81454675e-17,\n",
       "       2.81454675e-17, 2.81454675e-17, 2.81454675e-17, 2.81454675e-17,\n",
       "       2.81454675e-17, 2.81454675e-17, 2.81454675e-17, 2.81454675e-17,\n",
       "       2.81454675e-17, 2.81454675e-17, 2.81454675e-17, 2.81454675e-17,\n",
       "       2.81454675e-17, 2.81454675e-17, 2.81454675e-17, 2.81454675e-17])"
      ]
     },
     "execution_count": 36,
     "metadata": {},
     "output_type": "execute_result"
    }
   ],
   "source": [
    "explained_variance"
   ]
  },
  {
   "cell_type": "code",
   "execution_count": 37,
   "metadata": {},
   "outputs": [
    {
     "name": "stderr",
     "output_type": "stream",
     "text": [
      "23/09/19 15:36:55 WARN DAGScheduler: Broadcasting large task binary with size 1336.3 KiB\n",
      "1/1 [==============================] - 1s 1s/step                  (0 + 1) / 10]\n",
      "1/1 [==============================] - 1s 1s/step                  (1 + 1) / 10]\n",
      "1/1 [==============================] - 1s 1s/step                  (2 + 1) / 10]\n",
      "1/1 [==============================] - 1s 1s/step                  (3 + 1) / 10]\n",
      "1/1 [==============================] - 1s 1s/step                  (4 + 1) / 10]\n",
      "1/1 [==============================] - 1s 1s/step                  (5 + 1) / 10]\n",
      "1/1 [==============================] - 1s 1s/step                  (6 + 1) / 10]\n",
      "1/1 [==============================] - 1s 969ms/step               (7 + 1) / 10]\n",
      "1/1 [==============================] - 1s 1s/step======>           (8 + 1) / 10]\n",
      "1/1 [==============================] - 1s 990ms/step=========>     (9 + 1) / 10]\n",
      "                                                                                \r"
     ]
    }
   ],
   "source": [
    "pandas_df = result_df.toPandas()"
   ]
  },
  {
   "cell_type": "code",
   "execution_count": 38,
   "metadata": {},
   "outputs": [
    {
     "data": {
      "text/html": [
       "<div>\n",
       "<style scoped>\n",
       "    .dataframe tbody tr th:only-of-type {\n",
       "        vertical-align: middle;\n",
       "    }\n",
       "\n",
       "    .dataframe tbody tr th {\n",
       "        vertical-align: top;\n",
       "    }\n",
       "\n",
       "    .dataframe thead th {\n",
       "        text-align: right;\n",
       "    }\n",
       "</style>\n",
       "<table border=\"1\" class=\"dataframe\">\n",
       "  <thead>\n",
       "    <tr style=\"text-align: right;\">\n",
       "      <th></th>\n",
       "      <th>path</th>\n",
       "      <th>label</th>\n",
       "      <th>features</th>\n",
       "      <th>features_vector</th>\n",
       "      <th>pca_features</th>\n",
       "    </tr>\n",
       "  </thead>\n",
       "  <tbody>\n",
       "    <tr>\n",
       "      <th>0</th>\n",
       "      <td>file:/Users/JoycyRobert/Documents/JUPYTER/OPC/...</td>\n",
       "      <td>Apricot</td>\n",
       "      <td>[0.9467753767967224, 0.5196316242218018, 0.0, ...</td>\n",
       "      <td>[0.9467753767967224, 0.5196316242218018, 0.0, ...</td>\n",
       "      <td>[6.7988791643761965, 10.920687564667348, 1.683...</td>\n",
       "    </tr>\n",
       "    <tr>\n",
       "      <th>1</th>\n",
       "      <td>file:/Users/JoycyRobert/Documents/JUPYTER/OPC/...</td>\n",
       "      <td>Banana</td>\n",
       "      <td>[0.26353976130485535, 0.0, 0.0, 0.0, 1.0935741...</td>\n",
       "      <td>[0.26353976130485535, 0.0, 0.0, 0.0, 1.0935741...</td>\n",
       "      <td>[-9.009428948908393, -8.870745974058526, -8.83...</td>\n",
       "    </tr>\n",
       "    <tr>\n",
       "      <th>2</th>\n",
       "      <td>file:/Users/JoycyRobert/Documents/JUPYTER/OPC/...</td>\n",
       "      <td>Avocado</td>\n",
       "      <td>[1.3703408241271973, 0.0, 0.30703285336494446,...</td>\n",
       "      <td>[1.3703408241271973, 0.0, 0.30703285336494446,...</td>\n",
       "      <td>[18.909246502173954, -6.270296867198722, 8.251...</td>\n",
       "    </tr>\n",
       "    <tr>\n",
       "      <th>3</th>\n",
       "      <td>file:/Users/JoycyRobert/Documents/JUPYTER/OPC/...</td>\n",
       "      <td>Apricot</td>\n",
       "      <td>[0.5543833374977112, 0.03335580974817276, 0.0,...</td>\n",
       "      <td>[0.5543833374977112, 0.03335580974817276, 0.0,...</td>\n",
       "      <td>[6.764209271101875, 10.948024457083177, 0.4819...</td>\n",
       "    </tr>\n",
       "    <tr>\n",
       "      <th>4</th>\n",
       "      <td>file:/Users/JoycyRobert/Documents/JUPYTER/OPC/...</td>\n",
       "      <td>Apricot</td>\n",
       "      <td>[1.0993194580078125, 0.00024267118715215474, 0...</td>\n",
       "      <td>[1.0993194580078125, 0.00024267118715215474, 0...</td>\n",
       "      <td>[5.810410765872303, 12.76565378088618, -0.2282...</td>\n",
       "    </tr>\n",
       "    <tr>\n",
       "      <th>5</th>\n",
       "      <td>file:/Users/JoycyRobert/Documents/JUPYTER/OPC/...</td>\n",
       "      <td>Avocado</td>\n",
       "      <td>[0.3796469569206238, 0.0, 0.26109811663627625,...</td>\n",
       "      <td>[0.3796469569206238, 0.0, 0.26109811663627625,...</td>\n",
       "      <td>[12.802306338109057, -4.563962920450023, 3.464...</td>\n",
       "    </tr>\n",
       "    <tr>\n",
       "      <th>6</th>\n",
       "      <td>file:/Users/JoycyRobert/Documents/JUPYTER/OPC/...</td>\n",
       "      <td>Banana</td>\n",
       "      <td>[1.1546927690505981, 0.0642751157283783, 0.205...</td>\n",
       "      <td>[1.1546927690505981, 0.0642751157283783, 0.205...</td>\n",
       "      <td>[-7.032593711368696, 0.3082073668165733, 14.72...</td>\n",
       "    </tr>\n",
       "    <tr>\n",
       "      <th>7</th>\n",
       "      <td>file:/Users/JoycyRobert/Documents/JUPYTER/OPC/...</td>\n",
       "      <td>Banana</td>\n",
       "      <td>[1.8319334983825684, 0.0, 0.0, 0.0101655256003...</td>\n",
       "      <td>[1.8319334983825684, 0.0, 0.0, 0.0101655256003...</td>\n",
       "      <td>[-4.941663469268065, 1.1196422167182878, 9.381...</td>\n",
       "    </tr>\n",
       "    <tr>\n",
       "      <th>8</th>\n",
       "      <td>file:/Users/JoycyRobert/Documents/JUPYTER/OPC/...</td>\n",
       "      <td>Banana</td>\n",
       "      <td>[1.237112045288086, 0.11860422044992447, 0.0, ...</td>\n",
       "      <td>[1.237112045288086, 0.11860422044992447, 0.0, ...</td>\n",
       "      <td>[-7.124846409115405, 0.5035853297239603, 13.58...</td>\n",
       "    </tr>\n",
       "    <tr>\n",
       "      <th>9</th>\n",
       "      <td>file:/Users/JoycyRobert/Documents/JUPYTER/OPC/...</td>\n",
       "      <td>Apricot</td>\n",
       "      <td>[0.899592936038971, 0.0, 0.0, 0.0, 0.037708349...</td>\n",
       "      <td>[0.899592936038971, 0.0, 0.0, 0.0, 0.037708349...</td>\n",
       "      <td>[5.998582237932294, 12.642519060379511, -0.558...</td>\n",
       "    </tr>\n",
       "    <tr>\n",
       "      <th>10</th>\n",
       "      <td>file:/Users/JoycyRobert/Documents/JUPYTER/OPC/...</td>\n",
       "      <td>Apricot</td>\n",
       "      <td>[0.9467927813529968, 0.06125902757048607, 0.0,...</td>\n",
       "      <td>[0.9467927813529968, 0.06125902757048607, 0.0,...</td>\n",
       "      <td>[5.808372634810827, 13.357753872701508, -0.508...</td>\n",
       "    </tr>\n",
       "    <tr>\n",
       "      <th>11</th>\n",
       "      <td>file:/Users/JoycyRobert/Documents/JUPYTER/OPC/...</td>\n",
       "      <td>Banana</td>\n",
       "      <td>[0.04606828838586807, 0.04333694651722908, 0.0...</td>\n",
       "      <td>[0.04606828838586807, 0.04333694651722908, 0.0...</td>\n",
       "      <td>[-8.692064742378404, -8.598767320382299, -8.74...</td>\n",
       "    </tr>\n",
       "    <tr>\n",
       "      <th>12</th>\n",
       "      <td>file:/Users/JoycyRobert/Documents/JUPYTER/OPC/...</td>\n",
       "      <td>Banana</td>\n",
       "      <td>[0.028012188151478767, 0.0, 0.0, 0.0, 1.521113...</td>\n",
       "      <td>[0.028012188151478767, 0.0, 0.0, 0.0, 1.521113...</td>\n",
       "      <td>[-8.89026881975566, -8.69746534649726, -8.3314...</td>\n",
       "    </tr>\n",
       "    <tr>\n",
       "      <th>13</th>\n",
       "      <td>file:/Users/JoycyRobert/Documents/JUPYTER/OPC/...</td>\n",
       "      <td>Apricot</td>\n",
       "      <td>[0.7736843824386597, 0.04233822599053383, 0.0,...</td>\n",
       "      <td>[0.7736843824386597, 0.04233822599053383, 0.0,...</td>\n",
       "      <td>[2.545501187667669, 9.704454561486433, 0.02907...</td>\n",
       "    </tr>\n",
       "    <tr>\n",
       "      <th>14</th>\n",
       "      <td>file:/Users/JoycyRobert/Documents/JUPYTER/OPC/...</td>\n",
       "      <td>Banana</td>\n",
       "      <td>[1.2731441259384155, 0.07541236281394958, 0.11...</td>\n",
       "      <td>[1.2731441259384155, 0.07541236281394958, 0.11...</td>\n",
       "      <td>[-7.505841175284273, -0.6767280984537258, 14.7...</td>\n",
       "    </tr>\n",
       "    <tr>\n",
       "      <th>15</th>\n",
       "      <td>file:/Users/JoycyRobert/Documents/JUPYTER/OPC/...</td>\n",
       "      <td>Banana</td>\n",
       "      <td>[1.2445862293243408, 0.06677036732435226, 0.01...</td>\n",
       "      <td>[1.2445862293243408, 0.06677036732435226, 0.01...</td>\n",
       "      <td>[-7.6641367911747516, 0.2966454930641996, 14.5...</td>\n",
       "    </tr>\n",
       "    <tr>\n",
       "      <th>16</th>\n",
       "      <td>file:/Users/JoycyRobert/Documents/JUPYTER/OPC/...</td>\n",
       "      <td>Avocado</td>\n",
       "      <td>[0.8680058121681213, 0.0015526985516771674, 0....</td>\n",
       "      <td>[0.8680058121681213, 0.0015526985516771674, 0....</td>\n",
       "      <td>[19.752837177520348, -6.924722338392049, 8.085...</td>\n",
       "    </tr>\n",
       "    <tr>\n",
       "      <th>17</th>\n",
       "      <td>file:/Users/JoycyRobert/Documents/JUPYTER/OPC/...</td>\n",
       "      <td>Banana</td>\n",
       "      <td>[0.3142848610877991, 0.002513943938538432, 0.0...</td>\n",
       "      <td>[0.3142848610877991, 0.002513943938538432, 0.0...</td>\n",
       "      <td>[-8.818405023378665, -8.633694463820671, -8.55...</td>\n",
       "    </tr>\n",
       "    <tr>\n",
       "      <th>18</th>\n",
       "      <td>file:/Users/JoycyRobert/Documents/JUPYTER/OPC/...</td>\n",
       "      <td>Banana</td>\n",
       "      <td>[0.9945030808448792, 0.011749724857509136, 0.2...</td>\n",
       "      <td>[0.9945030808448792, 0.011749724857509136, 0.2...</td>\n",
       "      <td>[-7.552977150849206, 0.09955764524373166, 14.6...</td>\n",
       "    </tr>\n",
       "    <tr>\n",
       "      <th>19</th>\n",
       "      <td>file:/Users/JoycyRobert/Documents/JUPYTER/OPC/...</td>\n",
       "      <td>Avocado</td>\n",
       "      <td>[0.05614494904875755, 0.0, 0.15189598500728607...</td>\n",
       "      <td>[0.05614494904875755, 0.0, 0.15189598500728607...</td>\n",
       "      <td>[16.85635366097389, -6.953229129890532, 6.5082...</td>\n",
       "    </tr>\n",
       "    <tr>\n",
       "      <th>20</th>\n",
       "      <td>file:/Users/JoycyRobert/Documents/JUPYTER/OPC/...</td>\n",
       "      <td>Banana</td>\n",
       "      <td>[1.229653239250183, 0.0, 0.11030692607164383, ...</td>\n",
       "      <td>[1.229653239250183, 0.0, 0.11030692607164383, ...</td>\n",
       "      <td>[-7.539314652420514, 0.49645762344535976, 13.8...</td>\n",
       "    </tr>\n",
       "    <tr>\n",
       "      <th>21</th>\n",
       "      <td>file:/Users/JoycyRobert/Documents/JUPYTER/OPC/...</td>\n",
       "      <td>Apricot</td>\n",
       "      <td>[0.5882464647293091, 0.06753432005643845, 0.0,...</td>\n",
       "      <td>[0.5882464647293091, 0.06753432005643845, 0.0,...</td>\n",
       "      <td>[2.3411368279936693, 9.76742370887261, -0.0233...</td>\n",
       "    </tr>\n",
       "    <tr>\n",
       "      <th>22</th>\n",
       "      <td>file:/Users/JoycyRobert/Documents/JUPYTER/OPC/...</td>\n",
       "      <td>Avocado</td>\n",
       "      <td>[0.5229599475860596, 0.0, 0.07235253602266312,...</td>\n",
       "      <td>[0.5229599475860596, 0.0, 0.07235253602266312,...</td>\n",
       "      <td>[12.14572712897798, -4.491870886777458, 3.4131...</td>\n",
       "    </tr>\n",
       "    <tr>\n",
       "      <th>23</th>\n",
       "      <td>file:/Users/JoycyRobert/Documents/JUPYTER/OPC/...</td>\n",
       "      <td>Apricot</td>\n",
       "      <td>[0.7571344375610352, 0.039763811975717545, 0.0...</td>\n",
       "      <td>[0.7571344375610352, 0.039763811975717545, 0.0...</td>\n",
       "      <td>[5.607040900197599, 12.481777303932308, -0.717...</td>\n",
       "    </tr>\n",
       "    <tr>\n",
       "      <th>24</th>\n",
       "      <td>file:/Users/JoycyRobert/Documents/JUPYTER/OPC/...</td>\n",
       "      <td>Avocado</td>\n",
       "      <td>[0.6284045577049255, 0.0, 0.208069309592247, 0...</td>\n",
       "      <td>[0.6284045577049255, 0.0, 0.208069309592247, 0...</td>\n",
       "      <td>[13.220032050589456, -4.753940928850642, 3.185...</td>\n",
       "    </tr>\n",
       "    <tr>\n",
       "      <th>25</th>\n",
       "      <td>file:/Users/JoycyRobert/Documents/JUPYTER/OPC/...</td>\n",
       "      <td>Avocado</td>\n",
       "      <td>[1.1835910081863403, 0.0, 0.010967439971864223...</td>\n",
       "      <td>[1.1835910081863403, 0.0, 0.010967439971864223...</td>\n",
       "      <td>[17.31639536566207, -7.522874708927969, 7.7348...</td>\n",
       "    </tr>\n",
       "    <tr>\n",
       "      <th>26</th>\n",
       "      <td>file:/Users/JoycyRobert/Documents/JUPYTER/OPC/...</td>\n",
       "      <td>Banana</td>\n",
       "      <td>[1.1165012121200562, 0.17300020158290863, 0.0,...</td>\n",
       "      <td>[1.1165012121200562, 0.17300020158290863, 0.0,...</td>\n",
       "      <td>[-5.144952920372439, 1.2427571111631222, 8.795...</td>\n",
       "    </tr>\n",
       "    <tr>\n",
       "      <th>27</th>\n",
       "      <td>file:/Users/JoycyRobert/Documents/JUPYTER/OPC/...</td>\n",
       "      <td>Avocado</td>\n",
       "      <td>[0.33077070116996765, 0.0, 0.20546415448188782...</td>\n",
       "      <td>[0.33077070116996765, 0.0, 0.20546415448188782...</td>\n",
       "      <td>[13.188475625697466, -4.784213605056634, 3.199...</td>\n",
       "    </tr>\n",
       "  </tbody>\n",
       "</table>\n",
       "</div>"
      ],
      "text/plain": [
       "                                                 path    label  \\\n",
       "0   file:/Users/JoycyRobert/Documents/JUPYTER/OPC/...  Apricot   \n",
       "1   file:/Users/JoycyRobert/Documents/JUPYTER/OPC/...   Banana   \n",
       "2   file:/Users/JoycyRobert/Documents/JUPYTER/OPC/...  Avocado   \n",
       "3   file:/Users/JoycyRobert/Documents/JUPYTER/OPC/...  Apricot   \n",
       "4   file:/Users/JoycyRobert/Documents/JUPYTER/OPC/...  Apricot   \n",
       "5   file:/Users/JoycyRobert/Documents/JUPYTER/OPC/...  Avocado   \n",
       "6   file:/Users/JoycyRobert/Documents/JUPYTER/OPC/...   Banana   \n",
       "7   file:/Users/JoycyRobert/Documents/JUPYTER/OPC/...   Banana   \n",
       "8   file:/Users/JoycyRobert/Documents/JUPYTER/OPC/...   Banana   \n",
       "9   file:/Users/JoycyRobert/Documents/JUPYTER/OPC/...  Apricot   \n",
       "10  file:/Users/JoycyRobert/Documents/JUPYTER/OPC/...  Apricot   \n",
       "11  file:/Users/JoycyRobert/Documents/JUPYTER/OPC/...   Banana   \n",
       "12  file:/Users/JoycyRobert/Documents/JUPYTER/OPC/...   Banana   \n",
       "13  file:/Users/JoycyRobert/Documents/JUPYTER/OPC/...  Apricot   \n",
       "14  file:/Users/JoycyRobert/Documents/JUPYTER/OPC/...   Banana   \n",
       "15  file:/Users/JoycyRobert/Documents/JUPYTER/OPC/...   Banana   \n",
       "16  file:/Users/JoycyRobert/Documents/JUPYTER/OPC/...  Avocado   \n",
       "17  file:/Users/JoycyRobert/Documents/JUPYTER/OPC/...   Banana   \n",
       "18  file:/Users/JoycyRobert/Documents/JUPYTER/OPC/...   Banana   \n",
       "19  file:/Users/JoycyRobert/Documents/JUPYTER/OPC/...  Avocado   \n",
       "20  file:/Users/JoycyRobert/Documents/JUPYTER/OPC/...   Banana   \n",
       "21  file:/Users/JoycyRobert/Documents/JUPYTER/OPC/...  Apricot   \n",
       "22  file:/Users/JoycyRobert/Documents/JUPYTER/OPC/...  Avocado   \n",
       "23  file:/Users/JoycyRobert/Documents/JUPYTER/OPC/...  Apricot   \n",
       "24  file:/Users/JoycyRobert/Documents/JUPYTER/OPC/...  Avocado   \n",
       "25  file:/Users/JoycyRobert/Documents/JUPYTER/OPC/...  Avocado   \n",
       "26  file:/Users/JoycyRobert/Documents/JUPYTER/OPC/...   Banana   \n",
       "27  file:/Users/JoycyRobert/Documents/JUPYTER/OPC/...  Avocado   \n",
       "\n",
       "                                             features  \\\n",
       "0   [0.9467753767967224, 0.5196316242218018, 0.0, ...   \n",
       "1   [0.26353976130485535, 0.0, 0.0, 0.0, 1.0935741...   \n",
       "2   [1.3703408241271973, 0.0, 0.30703285336494446,...   \n",
       "3   [0.5543833374977112, 0.03335580974817276, 0.0,...   \n",
       "4   [1.0993194580078125, 0.00024267118715215474, 0...   \n",
       "5   [0.3796469569206238, 0.0, 0.26109811663627625,...   \n",
       "6   [1.1546927690505981, 0.0642751157283783, 0.205...   \n",
       "7   [1.8319334983825684, 0.0, 0.0, 0.0101655256003...   \n",
       "8   [1.237112045288086, 0.11860422044992447, 0.0, ...   \n",
       "9   [0.899592936038971, 0.0, 0.0, 0.0, 0.037708349...   \n",
       "10  [0.9467927813529968, 0.06125902757048607, 0.0,...   \n",
       "11  [0.04606828838586807, 0.04333694651722908, 0.0...   \n",
       "12  [0.028012188151478767, 0.0, 0.0, 0.0, 1.521113...   \n",
       "13  [0.7736843824386597, 0.04233822599053383, 0.0,...   \n",
       "14  [1.2731441259384155, 0.07541236281394958, 0.11...   \n",
       "15  [1.2445862293243408, 0.06677036732435226, 0.01...   \n",
       "16  [0.8680058121681213, 0.0015526985516771674, 0....   \n",
       "17  [0.3142848610877991, 0.002513943938538432, 0.0...   \n",
       "18  [0.9945030808448792, 0.011749724857509136, 0.2...   \n",
       "19  [0.05614494904875755, 0.0, 0.15189598500728607...   \n",
       "20  [1.229653239250183, 0.0, 0.11030692607164383, ...   \n",
       "21  [0.5882464647293091, 0.06753432005643845, 0.0,...   \n",
       "22  [0.5229599475860596, 0.0, 0.07235253602266312,...   \n",
       "23  [0.7571344375610352, 0.039763811975717545, 0.0...   \n",
       "24  [0.6284045577049255, 0.0, 0.208069309592247, 0...   \n",
       "25  [1.1835910081863403, 0.0, 0.010967439971864223...   \n",
       "26  [1.1165012121200562, 0.17300020158290863, 0.0,...   \n",
       "27  [0.33077070116996765, 0.0, 0.20546415448188782...   \n",
       "\n",
       "                                      features_vector  \\\n",
       "0   [0.9467753767967224, 0.5196316242218018, 0.0, ...   \n",
       "1   [0.26353976130485535, 0.0, 0.0, 0.0, 1.0935741...   \n",
       "2   [1.3703408241271973, 0.0, 0.30703285336494446,...   \n",
       "3   [0.5543833374977112, 0.03335580974817276, 0.0,...   \n",
       "4   [1.0993194580078125, 0.00024267118715215474, 0...   \n",
       "5   [0.3796469569206238, 0.0, 0.26109811663627625,...   \n",
       "6   [1.1546927690505981, 0.0642751157283783, 0.205...   \n",
       "7   [1.8319334983825684, 0.0, 0.0, 0.0101655256003...   \n",
       "8   [1.237112045288086, 0.11860422044992447, 0.0, ...   \n",
       "9   [0.899592936038971, 0.0, 0.0, 0.0, 0.037708349...   \n",
       "10  [0.9467927813529968, 0.06125902757048607, 0.0,...   \n",
       "11  [0.04606828838586807, 0.04333694651722908, 0.0...   \n",
       "12  [0.028012188151478767, 0.0, 0.0, 0.0, 1.521113...   \n",
       "13  [0.7736843824386597, 0.04233822599053383, 0.0,...   \n",
       "14  [1.2731441259384155, 0.07541236281394958, 0.11...   \n",
       "15  [1.2445862293243408, 0.06677036732435226, 0.01...   \n",
       "16  [0.8680058121681213, 0.0015526985516771674, 0....   \n",
       "17  [0.3142848610877991, 0.002513943938538432, 0.0...   \n",
       "18  [0.9945030808448792, 0.011749724857509136, 0.2...   \n",
       "19  [0.05614494904875755, 0.0, 0.15189598500728607...   \n",
       "20  [1.229653239250183, 0.0, 0.11030692607164383, ...   \n",
       "21  [0.5882464647293091, 0.06753432005643845, 0.0,...   \n",
       "22  [0.5229599475860596, 0.0, 0.07235253602266312,...   \n",
       "23  [0.7571344375610352, 0.039763811975717545, 0.0...   \n",
       "24  [0.6284045577049255, 0.0, 0.208069309592247, 0...   \n",
       "25  [1.1835910081863403, 0.0, 0.010967439971864223...   \n",
       "26  [1.1165012121200562, 0.17300020158290863, 0.0,...   \n",
       "27  [0.33077070116996765, 0.0, 0.20546415448188782...   \n",
       "\n",
       "                                         pca_features  \n",
       "0   [6.7988791643761965, 10.920687564667348, 1.683...  \n",
       "1   [-9.009428948908393, -8.870745974058526, -8.83...  \n",
       "2   [18.909246502173954, -6.270296867198722, 8.251...  \n",
       "3   [6.764209271101875, 10.948024457083177, 0.4819...  \n",
       "4   [5.810410765872303, 12.76565378088618, -0.2282...  \n",
       "5   [12.802306338109057, -4.563962920450023, 3.464...  \n",
       "6   [-7.032593711368696, 0.3082073668165733, 14.72...  \n",
       "7   [-4.941663469268065, 1.1196422167182878, 9.381...  \n",
       "8   [-7.124846409115405, 0.5035853297239603, 13.58...  \n",
       "9   [5.998582237932294, 12.642519060379511, -0.558...  \n",
       "10  [5.808372634810827, 13.357753872701508, -0.508...  \n",
       "11  [-8.692064742378404, -8.598767320382299, -8.74...  \n",
       "12  [-8.89026881975566, -8.69746534649726, -8.3314...  \n",
       "13  [2.545501187667669, 9.704454561486433, 0.02907...  \n",
       "14  [-7.505841175284273, -0.6767280984537258, 14.7...  \n",
       "15  [-7.6641367911747516, 0.2966454930641996, 14.5...  \n",
       "16  [19.752837177520348, -6.924722338392049, 8.085...  \n",
       "17  [-8.818405023378665, -8.633694463820671, -8.55...  \n",
       "18  [-7.552977150849206, 0.09955764524373166, 14.6...  \n",
       "19  [16.85635366097389, -6.953229129890532, 6.5082...  \n",
       "20  [-7.539314652420514, 0.49645762344535976, 13.8...  \n",
       "21  [2.3411368279936693, 9.76742370887261, -0.0233...  \n",
       "22  [12.14572712897798, -4.491870886777458, 3.4131...  \n",
       "23  [5.607040900197599, 12.481777303932308, -0.717...  \n",
       "24  [13.220032050589456, -4.753940928850642, 3.185...  \n",
       "25  [17.31639536566207, -7.522874708927969, 7.7348...  \n",
       "26  [-5.144952920372439, 1.2427571111631222, 8.795...  \n",
       "27  [13.188475625697466, -4.784213605056634, 3.199...  "
      ]
     },
     "execution_count": 38,
     "metadata": {},
     "output_type": "execute_result"
    }
   ],
   "source": [
    "pandas_df"
   ]
  },
  {
   "cell_type": "code",
   "execution_count": 42,
   "metadata": {},
   "outputs": [],
   "source": [
    "# Extract the PCA components (the first two)\n",
    "for j in range(6):\n",
    "    feat_name = 'pca'+str(j+1)\n",
    "    pandas_df[feat_name] = pandas_df['pca_features'].apply(lambda x: x[j])"
   ]
  },
  {
   "cell_type": "code",
   "execution_count": 40,
   "metadata": {},
   "outputs": [
    {
     "data": {
      "text/plain": [
       "<Axes: xlabel='pca_1', ylabel='pca_2'>"
      ]
     },
     "execution_count": 40,
     "metadata": {},
     "output_type": "execute_result"
    },
    {
     "data": {
      "image/png": "[encoded data removed]",
      "text/plain": [
       "<Figure size 800x800 with 1 Axes>"
      ]
     },
     "metadata": {},
     "output_type": "display_data"
    }
   ],
   "source": [
    "sns.set()\n",
    "fig, ax = plt.subplots(figsize= (8,8))\n",
    "sns.scatterplot(data = pandas_df, x = 'pca_1', y = 'pca_2', hue = 'label')\n",
    "plt.savefig('s3://oc-calculsdistribues-p8-jkm-rob/data/Results/PCA_plan_principale_1.png')\n"
   ]
  },
  {
   "cell_type": "code",
   "execution_count": 44,
   "metadata": {},
   "outputs": [],
   "source": [
    "pandas_df = pandas_df.drop(columns =['features', 'features_vector', 'pca_features'])\n",
    "pandas_df.head()"
   ]
  },
  {
   "cell_type": "code",
   "execution_count": 46,
   "metadata": {},
   "outputs": [],
   "source": [
    "pandas_df.to_csv('s3://oc-calculsdistribues-p8-jkm-rob/data/Results/KuohMoukouri_Joyce_4_matrice_092023.csv')"
   ]
  }
 ],
 "metadata": {
  "kernelspec": {
   "display_name": "venv_P8",
   "language": "python",
   "name": "python3"
  },
  "language_info": {
   "codemirror_mode": {
    "name": "ipython",
    "version": 3
   },
   "file_extension": ".py",
   "mimetype": "text/x-python",
   "name": "python",
   "nbconvert_exporter": "python",
   "pygments_lexer": "ipython3",
   "version": "3.9.13"
  },
  "orig_nbformat": 4
 },
 "nbformat": 4,
 "nbformat_minor": 2
}
